{
 "cells": [
  {
   "cell_type": "markdown",
   "metadata": {
    "run_control": {
     "frozen": false,
     "read_only": false
    }
   },
   "source": [
    "# Imports"
   ]
  },
  {
   "cell_type": "code",
   "execution_count": 1,
   "metadata": {
    "collapsed": true,
    "run_control": {
     "frozen": false,
     "read_only": false
    }
   },
   "outputs": [],
   "source": [
    "from pymongo import MongoClient"
   ]
  },
  {
   "cell_type": "code",
   "execution_count": 2,
   "metadata": {
    "collapsed": false,
    "run_control": {
     "frozen": false,
     "read_only": false
    }
   },
   "outputs": [
    {
     "name": "stderr",
     "output_type": "stream",
     "text": [
      "/Users/Sam/anaconda2/lib/python2.7/site-packages/gensim/utils.py:1015: UserWarning: Pattern library is not installed, lemmatization won't be available.\n",
      "  warnings.warn(\"Pattern library is not installed, lemmatization won't be available.\")\n"
     ]
    }
   ],
   "source": [
    "import numpy as np\n",
    "import pandas as pd\n",
    "from sklearn.cluster import KMeans\n",
    "from sklearn.feature_extraction.text import CountVectorizer, TfidfVectorizer\n",
    "from sklearn.neighbors import BallTree\n",
    "from gensim import matutils, models\n",
    "import gensim\n",
    "import matplotlib.pyplot as plt\n",
    "\n",
    "%matplotlib inline"
   ]
  },
  {
   "cell_type": "markdown",
   "metadata": {
    "run_control": {
     "frozen": false,
     "read_only": false
    }
   },
   "source": [
    "# Getting Data From MongoDB"
   ]
  },
  {
   "cell_type": "code",
   "execution_count": 4,
   "metadata": {
    "collapsed": true,
    "run_control": {
     "frozen": false,
     "read_only": false
    }
   },
   "outputs": [],
   "source": [
    "client = MongoClient()\n",
    "db = client.yelp\n",
    "reviews = db.reviews\n",
    "business = db.business"
   ]
  },
  {
   "cell_type": "code",
   "execution_count": 4,
   "metadata": {
    "collapsed": false,
    "run_control": {
     "frozen": false,
     "read_only": false
    }
   },
   "outputs": [],
   "source": [
    "databus = list(business.find({\"name\": \"Mr Hoagie\"}))"
   ]
  },
  {
   "cell_type": "code",
   "execution_count": 5,
   "metadata": {
    "collapsed": false,
    "run_control": {
     "frozen": false,
     "read_only": false
    }
   },
   "outputs": [
    {
     "name": "stdout",
     "output_type": "stream",
     "text": [
      "[{u'city': u'Dravosburg', u'review_count': 7, u'name': u'Mr Hoagie', u'neighborhoods': [], u'type': u'business', u'business_id': u'5UmKMjUEUNdYWqANhGckJw', u'full_address': u'4734 Lebanon Church Rd\\nDravosburg, PA 15034', u'hours': {u'Tuesday': {u'close': u'21:00', u'open': u'11:00'}, u'Friday': {u'close': u'21:00', u'open': u'11:00'}, u'Monday': {u'close': u'21:00', u'open': u'11:00'}, u'Wednesday': {u'close': u'21:00', u'open': u'11:00'}, u'Thursday': {u'close': u'21:00', u'open': u'11:00'}}, u'state': u'PA', u'longitude': -79.9007057, u'stars': 3.5, u'latitude': 40.3543266, u'attributes': {u'Take-out': True, u'Drive-Thru': False, u'Outdoor Seating': False, u'Caters': False, u'Noise Level': u'average', u'Parking': {u'garage': False, u'street': False, u'validated': False, u'lot': False, u'valet': False}, u'Delivery': False, u'Attire': u'casual', u'Has TV': False, u'Price Range': 1, u'Good For': {u'dessert': False, u'latenight': False, u'lunch': False, u'dinner': False, u'breakfast': False, u'brunch': False}, u'Takes Reservations': False, u'Ambience': {u'romantic': False, u'intimate': False, u'classy': False, u'hipster': False, u'divey': False, u'touristy': False, u'trendy': False, u'upscale': False, u'casual': False}, u'Waiter Service': False, u'Accepts Credit Cards': True, u'Good for Kids': True, u'Good For Groups': True, u'Alcohol': u'none'}, u'_id': ObjectId('58193184fb7d8c75f3a4cc72'), u'open': True, u'categories': [u'Fast Food', u'Restaurants']}]\n"
     ]
    }
   ],
   "source": [
    "print databus"
   ]
  },
  {
   "cell_type": "code",
   "execution_count": 6,
   "metadata": {
    "collapsed": false,
    "run_control": {
     "frozen": false,
     "read_only": false
    }
   },
   "outputs": [
    {
     "data": {
      "text/html": [
       "<div>\n",
       "<table border=\"1\" class=\"dataframe\">\n",
       "  <thead>\n",
       "    <tr style=\"text-align: right;\">\n",
       "      <th></th>\n",
       "      <th>_id</th>\n",
       "      <th>attributes</th>\n",
       "      <th>business_id</th>\n",
       "      <th>categories</th>\n",
       "      <th>city</th>\n",
       "      <th>full_address</th>\n",
       "      <th>hours</th>\n",
       "      <th>latitude</th>\n",
       "      <th>longitude</th>\n",
       "      <th>name</th>\n",
       "      <th>neighborhoods</th>\n",
       "      <th>open</th>\n",
       "      <th>review_count</th>\n",
       "      <th>stars</th>\n",
       "      <th>state</th>\n",
       "      <th>type</th>\n",
       "    </tr>\n",
       "  </thead>\n",
       "  <tbody>\n",
       "    <tr>\n",
       "      <th>0</th>\n",
       "      <td>58193184fb7d8c75f3a4cc72</td>\n",
       "      <td>{u'Take-out': True, u'Drive-Thru': False, u'Ou...</td>\n",
       "      <td>5UmKMjUEUNdYWqANhGckJw</td>\n",
       "      <td>[Fast Food, Restaurants]</td>\n",
       "      <td>Dravosburg</td>\n",
       "      <td>4734 Lebanon Church Rd\\nDravosburg, PA 15034</td>\n",
       "      <td>{u'Tuesday': {u'close': u'21:00', u'open': u'1...</td>\n",
       "      <td>40.354327</td>\n",
       "      <td>-79.900706</td>\n",
       "      <td>Mr Hoagie</td>\n",
       "      <td>[]</td>\n",
       "      <td>True</td>\n",
       "      <td>7</td>\n",
       "      <td>3.5</td>\n",
       "      <td>PA</td>\n",
       "      <td>business</td>\n",
       "    </tr>\n",
       "  </tbody>\n",
       "</table>\n",
       "</div>"
      ],
      "text/plain": [
       "                        _id  \\\n",
       "0  58193184fb7d8c75f3a4cc72   \n",
       "\n",
       "                                          attributes             business_id  \\\n",
       "0  {u'Take-out': True, u'Drive-Thru': False, u'Ou...  5UmKMjUEUNdYWqANhGckJw   \n",
       "\n",
       "                 categories        city  \\\n",
       "0  [Fast Food, Restaurants]  Dravosburg   \n",
       "\n",
       "                                   full_address  \\\n",
       "0  4734 Lebanon Church Rd\\nDravosburg, PA 15034   \n",
       "\n",
       "                                               hours   latitude  longitude  \\\n",
       "0  {u'Tuesday': {u'close': u'21:00', u'open': u'1...  40.354327 -79.900706   \n",
       "\n",
       "        name neighborhoods  open  review_count  stars state      type  \n",
       "0  Mr Hoagie            []  True             7    3.5    PA  business  "
      ]
     },
     "execution_count": 6,
     "metadata": {},
     "output_type": "execute_result"
    }
   ],
   "source": [
    "databuspd = pd.DataFrame(databus)\n",
    "databuspd"
   ]
  },
  {
   "cell_type": "code",
   "execution_count": 7,
   "metadata": {
    "collapsed": false,
    "run_control": {
     "frozen": false,
     "read_only": false
    }
   },
   "outputs": [],
   "source": [
    "busid = databuspd['business_id'][0]"
   ]
  },
  {
   "cell_type": "code",
   "execution_count": 8,
   "metadata": {
    "collapsed": false,
    "run_control": {
     "frozen": false,
     "read_only": false
    }
   },
   "outputs": [],
   "source": [
    "datarev = list(reviews.find({\"business_id\": busid}))"
   ]
  },
  {
   "cell_type": "code",
   "execution_count": 9,
   "metadata": {
    "collapsed": false,
    "run_control": {
     "frozen": false,
     "read_only": false
    }
   },
   "outputs": [
    {
     "data": {
      "text/plain": [
       "[u'First the only reason this place could possibly win best hoagie is because there\\'s no competition. Two hoagies and a side of onion rings cost $25.74\\n\\nSo I\\'m thinking with the reader choice awards and $10 per 12\" hoagie these will be awesome. \\n\\nI was sadly mistaken. \\n\\nThe only reason I didn\\'t give one star is because is the bread & dressing is fairly decent. \\n\\nSo on to the hoagies, the Italian is general run of the mill. Minimal meat and a ton of shredded lettuce. You get more meat at subway. Nothing really special & NOT worthy of the $10 price tag. \\n\\nSecond, the steak hoagie, it is atrocious. \\nNo cheese?!?!? You have to add cheese for $1 so now the steak hoagie is $11. That has so little amounts of meat that I thought I was eating a lettuce & onion hoagie. I am thoroughly disappointed with this hoagie, possibly the worst value of a hoagie I\\'ve ever eaten. \\nI\\'m not say eating at subway is any better, but for the huge price difference you are better off doing so. \\nCheck out pasquales down the road, better hoagie & price.',\n",
       " u'Yes this place is a little out dated and not opened on the weekend. But other than that the staff is always pleasant and fast to make your order. Which is always spot on fresh veggies on their hoggies and other food. They also have daily specials and ice cream which is really good. I had a banana split they piled the toppings on. They win pennysaver awards ever years i see why.',\n",
       " u\"I like this place a lot. It's a good toasted hoagie.\\n\\nI actually don't like a my bun exploding with meat, but as a previous poster mentioned if you do maybe you wouldn't like this place.\\n\\nThe inside badly needs updated though. \\n\\nThe staff is friendly.\",\n",
       " u'Mr Hoagie is an institution. Walking in, it does seem like a throwback to 30 years ago, old fashioned menu board, booths out of the 70s, and a large selection of food. Their speciality is the Italian Hoagie, and it is voted the best in the area year after year. I usually order the burger, while the patties are obviously cooked from frozen, all of the other ingredients are very fresh. Overall, its a good alternative to Subway, which is down the road.',\n",
       " u'PROS: Italian hoagie was delicious.  Friendly counter employee. The restaurant was clean and neat. \\n\\nCONS: The pizza was not good.  Pre-formed crust, NOT fresh dough.  The price of the failure of a pizza WAS NOT CHEAP EITHER.  \\n\\nI guess the name says it all.  Get the hoagie, pass on the pizza.',\n",
       " u'Normally, I do not do reviews of an establishment unless the rating is exceptionally great or exceptionally bad.  If I had not felt sucker punched and mugged after I left Mr. Hoagie, I would not be writing this bad review.  On my first and last trip there, I paid $24.59 for two whole hoagies.  \\n\\n1) The Italian (ordered because the woman (she) working there told me it was their most popular hoagie) I ordered with lettuce and onions (no tomato, italian dressing which all come free with the hoagie).  I had to pay $1 to add cheese to the hoagie.  Because I was traveling and would not be eating the hoagie right away, I asked for the italian on the side.  She told me there was a charge for the dressing on the side.  I passed on that on principle.  Are you kidding me?  I just saved her money by declining the tomato.  I was not going to pay for the dressing on the side.  At this point, I am certain something is not right and this place appears to me to be in financial trouble.  That pales in comparison to what happened next.  I opened the hoagie and there were three microscopically thin slices of meat on this hoagie.  Ham, salami, and bologna.  Bologna!?!?!?!?    Who in the hell puts disgusting bologna on an Italian hoagie?  That disqualifies that hoagie as an Italian.  The red flags indicating this place is in financial trouble are blinding my view.  One area of this hoagie only had one slice of bologna, no ham and no salami.\\n\\n2)  The Steak hoagie came with nothing on it but lettuce, tomato, onions, and dressing.  I ordered it without lettuce, tomato, onions, or dressing.  I asked for mayo on the side.  I had to pay for that so I declined.  Are you kidding me?  I just saved them money by passing on the lettuce, tomato, fresh onions, and dressing!  I paid $3 to add saut\\xe9ed mushrooms, onions, and cheese.  Here we go again.  Canned mushrooms that were not even cooked through (were still cold) and onions that were still crunchy/undercooked.  News flash:  you need to serve fresh mushrooms that have been saut\\xe9ed (canned mushrooms are another sign this place is in financial trouble).  I literally had to open the hoagie to find the steak because I could not taste or see it.  The hoagie was 50% mushrooms, 30%onions, 10% cheese and 10% steak.\\n\\nI could have personally made 10 whole hoagies with substantial quality ingredients and toppings for the $24.59 I paid for these two whole hoagies.  I intentionally patronize non-chain restaurants to support small businesses.  In this case, Never. Again.  (The hoagie bun was better than average.)  Wake up or you are going to lose your business.',\n",
       " u\"Excellent food. Superb customer service. I miss the mario machines they used to have, but it's still a great place steeped in tradition.\"]"
      ]
     },
     "execution_count": 9,
     "metadata": {},
     "output_type": "execute_result"
    }
   ],
   "source": [
    "reviews = []\n",
    "for review in range(len(datarev)):\n",
    "    reviews.append(datarev[review]['text'])\n",
    "reviews"
   ]
  },
  {
   "cell_type": "markdown",
   "metadata": {
    "run_control": {
     "frozen": false,
     "read_only": false
    }
   },
   "source": [
    "# Preprocessing with CountVectorizer"
   ]
  },
  {
   "cell_type": "code",
   "execution_count": 10,
   "metadata": {
    "collapsed": false,
    "run_control": {
     "frozen": false,
     "read_only": false
    }
   },
   "outputs": [],
   "source": [
    "count_vectorizer = CountVectorizer(ngram_range = (1,2), stop_words = 'english', token_pattern = \"\\\\b[a-z][a-z]+\\\\b\")\n",
    "reviewcounts = count_vectorizer.fit_transform(reviews).transpose()"
   ]
  },
  {
   "cell_type": "code",
   "execution_count": 11,
   "metadata": {
    "collapsed": false,
    "run_control": {
     "frozen": false,
     "read_only": false
    }
   },
   "outputs": [
    {
     "data": {
      "text/plain": [
       "(633, 7)"
      ]
     },
     "execution_count": 11,
     "metadata": {},
     "output_type": "execute_result"
    }
   ],
   "source": [
    "reviewcounts.shape"
   ]
  },
  {
   "cell_type": "code",
   "execution_count": 12,
   "metadata": {
    "collapsed": false,
    "run_control": {
     "frozen": false,
     "read_only": false
    }
   },
   "outputs": [],
   "source": [
    "corpus = matutils.Sparse2Corpus(reviewcounts)"
   ]
  },
  {
   "cell_type": "code",
   "execution_count": 13,
   "metadata": {
    "collapsed": true,
    "run_control": {
     "frozen": false,
     "read_only": false
    }
   },
   "outputs": [],
   "source": [
    "id2word = dict((v,k) for k,v in count_vectorizer.vocabulary_.items())"
   ]
  },
  {
   "cell_type": "code",
   "execution_count": 14,
   "metadata": {
    "collapsed": false,
    "run_control": {
     "frozen": false,
     "read_only": false
    }
   },
   "outputs": [
    {
     "name": "stdout",
     "output_type": "stream",
     "text": [
      "{0: u'actually', 1: u'actually don', 2: u'add', 3: u'add cheese', 4: u'add saut', 5: u'ago', 6: u'ago old', 7: u'alternative', 8: u'alternative subway', 9: u'amounts', 10: u'amounts meat', 11: u'appears', 12: u'appears financial', 13: u'area', 14: u'area hoagie', 15: u'area year', 16: u'asked', 17: u'asked italian', 18: u'asked mayo', 19: u'atrocious', 20: u'atrocious cheese', 21: u'average', 22: u'average wake', 23: u'awards', 24: u'awards hoagie', 25: u'awards years', 26: u'away', 27: u'away asked', 28: u'awesome', 29: u'awesome sadly', 30: u'bad', 31: u'bad felt', 32: u'bad review', 33: u'badly', 34: u'badly needs', 35: u'banana', 36: u'banana split', 37: u'best', 38: u'best area', 39: u'best hoagie', 40: u'better', 41: u'better average', 42: u'better doing', 43: u'better hoagie', 44: u'better huge', 45: u'blinding', 46: u'blinding view', 47: u'board', 48: u'board booths', 49: u'bologna', 50: u'bologna bologna', 51: u'bologna ham', 52: u'bologna hell', 53: u'bologna italian', 54: u'booths', 55: u'booths large', 56: u'bread', 57: u'bread dressing', 58: u'bun', 59: u'bun better', 60: u'bun exploding', 61: u'burger', 62: u'burger patties', 63: u'business', 64: u'businesses', 65: u'businesses case', 66: u'came', 67: u'came lettuce', 68: u'canned', 69: u'canned mushrooms', 70: u'case', 71: u'case hoagie', 72: u'certain', 73: u'certain right', 74: u'chain', 75: u'chain restaurants', 76: u'charge', 77: u'charge dressing', 78: u'cheap', 79: u'cheap guess', 80: u'check', 81: u'check pasquales', 82: u'cheese', 83: u'cheese add', 84: u'cheese canned', 85: u'cheese hoagie', 86: u'cheese steak', 87: u'choice', 88: u'choice awards', 89: u'clean', 90: u'clean neat', 91: u'cold', 92: u'cold onions', 93: u'come', 94: u'come free', 95: u'comparison', 96: u'comparison happened', 97: u'competition', 98: u'competition hoagies', 99: u'cons', 100: u'cons pizza', 101: u'cooked', 102: u'cooked cold', 103: u'cooked frozen', 104: u'cost', 105: u'cost thinking', 106: u'counter', 107: u'counter employee', 108: u'cream', 109: u'cream really', 110: u'crunchy', 111: u'crunchy undercooked', 112: u'crust', 113: u'crust fresh', 114: u'customer', 115: u'customer service', 116: u'daily', 117: u'daily specials', 118: u'dated', 119: u'dated opened', 120: u'decent', 121: u'decent hoagies', 122: u'declined', 123: u'declined kidding', 124: u'declining', 125: u'declining tomato', 126: u'delicious', 127: u'delicious friendly', 128: u'didn', 129: u'didn star', 130: u'difference', 131: u'difference better', 132: u'disappointed', 133: u'disappointed hoagie', 134: u'disgusting', 135: u'disgusting bologna', 136: u'disqualifies', 137: u'disqualifies hoagie', 138: u'does', 139: u'does like', 140: u'doing', 141: u'doing check', 142: u'don', 143: u'don like', 144: u'dough', 145: u'dough price', 146: u'dressing', 147: u'dressing asked', 148: u'dressing come', 149: u'dressing fairly', 150: u'dressing ordered', 151: u'dressing paid', 152: u'dressing passed', 153: u'dressing point', 154: u'eaten', 155: u'eaten say', 156: u'eating', 157: u'eating hoagie', 158: u'eating lettuce', 159: u'eating subway', 160: u'ed', 161: u'ed canned', 162: u'ed mushrooms', 163: u'employee', 164: u'employee restaurant', 165: u'establishment', 166: u'establishment unless', 167: u'excellent', 168: u'excellent food', 169: u'exceptionally', 170: u'exceptionally bad', 171: u'exceptionally great', 172: u'exploding', 173: u'exploding meat', 174: u'failure', 175: u'failure pizza', 176: u'fairly', 177: u'fairly decent', 178: u'fashioned', 179: u'fashioned menu', 180: u'fast', 181: u'fast make', 182: u'felt', 183: u'felt sucker', 184: u'financial', 185: u'financial trouble', 186: u'flags', 187: u'flags indicating', 188: u'flash', 189: u'flash need', 190: u'food', 191: u'food daily', 192: u'food speciality', 193: u'food superb', 194: u'formed', 195: u'formed crust', 196: u'free', 197: u'free hoagie', 198: u'fresh', 199: u'fresh dough', 200: u'fresh mushrooms', 201: u'fresh onions', 202: u'fresh overall', 203: u'fresh veggies', 204: u'friendly', 205: u'friendly counter', 206: u'frozen', 207: u'frozen ingredients', 208: u'general', 209: u'general run', 210: u'going', 211: u'going lose', 212: u'going pay', 213: u'good', 214: u'good alternative', 215: u'good banana', 216: u'good pre', 217: u'good toasted', 218: u'great', 219: u'great exceptionally', 220: u'great place', 221: u'guess', 222: u'guess says', 223: u'ham', 224: u'ham salami', 225: u'happened', 226: u'happened opened', 227: u'hell', 228: u'hell puts', 229: u'hoagie', 230: u'hoagie actually', 231: u'hoagie atrocious', 232: u'hoagie awesome', 233: u'hoagie bun', 234: u'hoagie came', 235: u'hoagie competition', 236: u'hoagie delicious', 237: u'hoagie disqualifies', 238: u'hoagie ham', 239: u'hoagie institution', 240: u'hoagie italian', 241: u'hoagie little', 242: u'hoagie microscopically', 243: u'hoagie mushrooms', 244: u'hoagie ordered', 245: u'hoagie pass', 246: u'hoagie pay', 247: u'hoagie possibly', 248: u'hoagie price', 249: u'hoagie right', 250: u'hoagie slice', 251: u'hoagie steak', 252: u'hoagie thoroughly', 253: u'hoagie traveling', 254: u'hoagie ve', 255: u'hoagie voted', 256: u'hoagie writing', 257: u'hoagies', 258: u'hoagies intentionally', 259: u'hoagies italian', 260: u'hoagies onion', 261: u'hoagies substantial', 262: u'hoggies', 263: u'hoggies food', 264: u'huge', 265: u'huge price', 266: u'ice', 267: u'ice cream', 268: u'indicating', 269: u'indicating place', 270: u'ingredients', 271: u'ingredients fresh', 272: u'ingredients toppings', 273: u'inside', 274: u'inside badly', 275: u'institution', 276: u'institution walking', 277: u'intentionally', 278: u'intentionally patronize', 279: u'italian', 280: u'italian dressing', 281: u'italian general', 282: u'italian hoagie', 283: u'italian ordered', 284: u'italian red', 285: u'italian told', 286: u'just', 287: u'just saved', 288: u'kidding', 289: u'kidding just', 290: u'large', 291: u'large selection', 292: u'left', 293: u'left mr', 294: u'lettuce', 295: u'lettuce meat', 296: u'lettuce onion', 297: u'lettuce onions', 298: u'lettuce tomato', 299: u'like', 300: u'like bun', 301: u'like place', 302: u'like throwback', 303: u'literally', 304: u'literally open', 305: u'little', 306: u'little amounts', 307: u'little dated', 308: u'lose', 309: u'lose business', 310: u'lot', 311: u'lot good', 312: u'machines', 313: u'machines used', 314: u'make', 315: u'make order', 316: u'mario', 317: u'mario machines', 318: u'maybe', 319: u'maybe wouldn', 320: u'mayo', 321: u'mayo pay', 322: u'meat', 323: u'meat hoagie', 324: u'meat previous', 325: u'meat subway', 326: u'meat thought', 327: u'meat ton', 328: u'mentioned', 329: u'mentioned maybe', 330: u'menu', 331: u'menu board', 332: u'microscopically', 333: u'microscopically slices', 334: u'minimal', 335: u'minimal meat', 336: u'miss', 337: u'miss mario', 338: u'mistaken', 339: u'mistaken reason', 340: u'money', 341: u'money declining', 342: u'money passing', 343: u'mr', 344: u'mr hoagie', 345: u'mugged', 346: u'mugged left', 347: u'mushrooms', 348: u'mushrooms cooked', 349: u'mushrooms onions', 350: u'mushrooms saut', 351: u'mushrooms sign', 352: u'neat', 353: u'neat cons', 354: u'need', 355: u'need serve', 356: u'needs', 357: u'needs updated', 358: u'news', 359: u'news flash', 360: u'non', 361: u'non chain', 362: u'normally', 363: u'normally reviews', 364: u'obviously', 365: u'obviously cooked', 366: u'old', 367: u'old fashioned', 368: u'onion', 369: u'onion hoagie', 370: u'onion rings', 371: u'onions', 372: u'onions cheese', 373: u'onions crunchy', 374: u'onions dressing', 375: u'onions tomato', 376: u'open', 377: u'open hoagie', 378: u'opened', 379: u'opened hoagie', 380: u'opened weekend', 381: u'order', 382: u'order burger', 383: u'order spot', 384: u'ordered', 385: u'ordered lettuce', 386: u'ordered woman', 387: u'overall', 388: u'overall good', 389: u'paid', 390: u'paid add', 391: u'paid hoagies', 392: u'pales', 393: u'pales comparison', 394: u'pasquales', 395: u'pasquales road', 396: u'pass', 397: u'pass pizza', 398: u'passed', 399: u'passed principle', 400: u'passing', 401: u'passing lettuce', 402: u'patronize', 403: u'patronize non', 404: u'patties', 405: u'patties obviously', 406: u'pay', 407: u'pay add', 408: u'pay declined', 409: u'pay dressing', 410: u'pennysaver', 411: u'pennysaver awards', 412: u'personally', 413: u'personally hoagies', 414: u'piled', 415: u'piled toppings', 416: u'pizza', 417: u'pizza cheap', 418: u'pizza good', 419: u'place', 420: u'place appears', 421: u'place financial', 422: u'place inside', 423: u'place little', 424: u'place lot', 425: u'place possibly', 426: u'place steeped', 427: u'pleasant', 428: u'pleasant fast', 429: u'point', 430: u'point certain', 431: u'popular', 432: u'popular hoagie', 433: u'possibly', 434: u'possibly win', 435: u'possibly worst', 436: u'poster', 437: u'poster mentioned', 438: u'pre', 439: u'pre formed', 440: u'previous', 441: u'previous poster', 442: u'price', 443: u'price difference', 444: u'price failure', 445: u'price tag', 446: u'principle', 447: u'principle kidding', 448: u'pros', 449: u'pros italian', 450: u'punched', 451: u'punched mugged', 452: u'puts', 453: u'puts disgusting', 454: u'quality', 455: u'quality ingredients', 456: u'rating', 457: u'rating exceptionally', 458: u'reader', 459: u'reader choice', 460: u'really', 461: u'really good', 462: u'really special', 463: u'reason', 464: u'reason didn', 465: u'reason place', 466: u'red', 467: u'red flags', 468: u'restaurant', 469: u'restaurant clean', 470: u'restaurants', 471: u'restaurants support', 472: u'review', 473: u'review trip', 474: u'reviews', 475: u'reviews establishment', 476: u'right', 477: u'right away', 478: u'right place', 479: u'rings', 480: u'rings cost', 481: u'road', 482: u'road better', 483: u'run', 484: u'run minimal', 485: u'sadly', 486: u'sadly mistaken', 487: u'salami', 488: u'salami bologna', 489: u'salami steak', 490: u'saut', 491: u'saut ed', 492: u'saved', 493: u'saved money', 494: u'say', 495: u'say eating', 496: u'says', 497: u'says hoagie', 498: u'second', 499: u'second steak', 500: u'selection', 501: u'selection food', 502: u'serve', 503: u'serve fresh', 504: u'service', 505: u'service miss', 506: u'shredded', 507: u'shredded lettuce', 508: u'sign', 509: u'sign place', 510: u'slice', 511: u'slice bologna', 512: u'slices', 513: u'slices meat', 514: u'small', 515: u'small businesses', 516: u'special', 517: u'special worthy', 518: u'speciality', 519: u'speciality italian', 520: u'specials', 521: u'specials ice', 522: u'split', 523: u'split piled', 524: u'spot', 525: u'spot fresh', 526: u'staff', 527: u'staff friendly', 528: u'staff pleasant', 529: u'star', 530: u'star bread', 531: u'steak', 532: u'steak hoagie', 533: u'steak personally', 534: u'steak taste', 535: u'steeped', 536: u'steeped tradition', 537: u'substantial', 538: u'substantial quality', 539: u'subway', 540: u'subway better', 541: u'subway really', 542: u'subway road', 543: u'sucker', 544: u'sucker punched', 545: u'superb', 546: u'superb customer', 547: u'support', 548: u'support small', 549: u'tag', 550: u'tag second', 551: u'taste', 552: u'taste hoagie', 553: u'thinking', 554: u'thinking reader', 555: u'thoroughly', 556: u'thoroughly disappointed', 557: u'thought', 558: u'thought eating', 559: u'throwback', 560: u'throwback years', 561: u'toasted', 562: u'toasted hoagie', 563: u'told', 564: u'told charge', 565: u'told popular', 566: u'tomato', 567: u'tomato fresh', 568: u'tomato going', 569: u'tomato italian', 570: u'tomato onions', 571: u'ton', 572: u'ton shredded', 573: u'toppings', 574: u'toppings paid', 575: u'toppings win', 576: u'tradition', 577: u'traveling', 578: u'traveling eating', 579: u'trip', 580: u'trip paid', 581: u'trouble', 582: u'trouble blinding', 583: u'trouble literally', 584: u'trouble pales', 585: u'undercooked', 586: u'undercooked news', 587: u'unless', 588: u'unless rating', 589: u'updated', 590: u'updated staff', 591: u'used', 592: u'used great', 593: u'usually', 594: u'usually order', 595: u'value', 596: u'value hoagie', 597: u've', 598: u've eaten', 599: u'veggies', 600: u'veggies hoggies', 601: u'view', 602: u'view area', 603: u'voted', 604: u'voted best', 605: u'wake', 606: u'wake going', 607: u'walking', 608: u'walking does', 609: u'weekend', 610: u'weekend staff', 611: u'win', 612: u'win best', 613: u'win pennysaver', 614: u'woman', 615: u'woman working', 616: u'working', 617: u'working told', 618: u'worst', 619: u'worst value', 620: u'worthy', 621: u'worthy price', 622: u'wouldn', 623: u'wouldn like', 624: u'writing', 625: u'writing bad', 626: u'year', 627: u'year usually', 628: u'year year', 629: u'years', 630: u'years ago', 631: u'yes', 632: u'yes place'}\n"
     ]
    }
   ],
   "source": [
    "print id2word"
   ]
  },
  {
   "cell_type": "markdown",
   "metadata": {
    "run_control": {
     "frozen": false,
     "read_only": false
    }
   },
   "source": [
    "# LDA"
   ]
  },
  {
   "cell_type": "code",
   "execution_count": 15,
   "metadata": {
    "collapsed": false,
    "run_control": {
     "frozen": false,
     "read_only": false
    }
   },
   "outputs": [
    {
     "data": {
      "text/plain": [
       "{0: u'actually',\n",
       " 1: u'actually don',\n",
       " 2: u'add',\n",
       " 3: u'add cheese',\n",
       " 4: u'add saut',\n",
       " 5: u'ago',\n",
       " 6: u'ago old',\n",
       " 7: u'alternative',\n",
       " 8: u'alternative subway',\n",
       " 9: u'amounts',\n",
       " 10: u'amounts meat',\n",
       " 11: u'appears',\n",
       " 12: u'appears financial',\n",
       " 13: u'area',\n",
       " 14: u'area hoagie',\n",
       " 15: u'area year',\n",
       " 16: u'asked',\n",
       " 17: u'asked italian',\n",
       " 18: u'asked mayo',\n",
       " 19: u'atrocious',\n",
       " 20: u'atrocious cheese',\n",
       " 21: u'average',\n",
       " 22: u'average wake',\n",
       " 23: u'awards',\n",
       " 24: u'awards hoagie',\n",
       " 25: u'awards years',\n",
       " 26: u'away',\n",
       " 27: u'away asked',\n",
       " 28: u'awesome',\n",
       " 29: u'awesome sadly',\n",
       " 30: u'bad',\n",
       " 31: u'bad felt',\n",
       " 32: u'bad review',\n",
       " 33: u'badly',\n",
       " 34: u'badly needs',\n",
       " 35: u'banana',\n",
       " 36: u'banana split',\n",
       " 37: u'best',\n",
       " 38: u'best area',\n",
       " 39: u'best hoagie',\n",
       " 40: u'better',\n",
       " 41: u'better average',\n",
       " 42: u'better doing',\n",
       " 43: u'better hoagie',\n",
       " 44: u'better huge',\n",
       " 45: u'blinding',\n",
       " 46: u'blinding view',\n",
       " 47: u'board',\n",
       " 48: u'board booths',\n",
       " 49: u'bologna',\n",
       " 50: u'bologna bologna',\n",
       " 51: u'bologna ham',\n",
       " 52: u'bologna hell',\n",
       " 53: u'bologna italian',\n",
       " 54: u'booths',\n",
       " 55: u'booths large',\n",
       " 56: u'bread',\n",
       " 57: u'bread dressing',\n",
       " 58: u'bun',\n",
       " 59: u'bun better',\n",
       " 60: u'bun exploding',\n",
       " 61: u'burger',\n",
       " 62: u'burger patties',\n",
       " 63: u'business',\n",
       " 64: u'businesses',\n",
       " 65: u'businesses case',\n",
       " 66: u'came',\n",
       " 67: u'came lettuce',\n",
       " 68: u'canned',\n",
       " 69: u'canned mushrooms',\n",
       " 70: u'case',\n",
       " 71: u'case hoagie',\n",
       " 72: u'certain',\n",
       " 73: u'certain right',\n",
       " 74: u'chain',\n",
       " 75: u'chain restaurants',\n",
       " 76: u'charge',\n",
       " 77: u'charge dressing',\n",
       " 78: u'cheap',\n",
       " 79: u'cheap guess',\n",
       " 80: u'check',\n",
       " 81: u'check pasquales',\n",
       " 82: u'cheese',\n",
       " 83: u'cheese add',\n",
       " 84: u'cheese canned',\n",
       " 85: u'cheese hoagie',\n",
       " 86: u'cheese steak',\n",
       " 87: u'choice',\n",
       " 88: u'choice awards',\n",
       " 89: u'clean',\n",
       " 90: u'clean neat',\n",
       " 91: u'cold',\n",
       " 92: u'cold onions',\n",
       " 93: u'come',\n",
       " 94: u'come free',\n",
       " 95: u'comparison',\n",
       " 96: u'comparison happened',\n",
       " 97: u'competition',\n",
       " 98: u'competition hoagies',\n",
       " 99: u'cons',\n",
       " 100: u'cons pizza',\n",
       " 101: u'cooked',\n",
       " 102: u'cooked cold',\n",
       " 103: u'cooked frozen',\n",
       " 104: u'cost',\n",
       " 105: u'cost thinking',\n",
       " 106: u'counter',\n",
       " 107: u'counter employee',\n",
       " 108: u'cream',\n",
       " 109: u'cream really',\n",
       " 110: u'crunchy',\n",
       " 111: u'crunchy undercooked',\n",
       " 112: u'crust',\n",
       " 113: u'crust fresh',\n",
       " 114: u'customer',\n",
       " 115: u'customer service',\n",
       " 116: u'daily',\n",
       " 117: u'daily specials',\n",
       " 118: u'dated',\n",
       " 119: u'dated opened',\n",
       " 120: u'decent',\n",
       " 121: u'decent hoagies',\n",
       " 122: u'declined',\n",
       " 123: u'declined kidding',\n",
       " 124: u'declining',\n",
       " 125: u'declining tomato',\n",
       " 126: u'delicious',\n",
       " 127: u'delicious friendly',\n",
       " 128: u'didn',\n",
       " 129: u'didn star',\n",
       " 130: u'difference',\n",
       " 131: u'difference better',\n",
       " 132: u'disappointed',\n",
       " 133: u'disappointed hoagie',\n",
       " 134: u'disgusting',\n",
       " 135: u'disgusting bologna',\n",
       " 136: u'disqualifies',\n",
       " 137: u'disqualifies hoagie',\n",
       " 138: u'does',\n",
       " 139: u'does like',\n",
       " 140: u'doing',\n",
       " 141: u'doing check',\n",
       " 142: u'don',\n",
       " 143: u'don like',\n",
       " 144: u'dough',\n",
       " 145: u'dough price',\n",
       " 146: u'dressing',\n",
       " 147: u'dressing asked',\n",
       " 148: u'dressing come',\n",
       " 149: u'dressing fairly',\n",
       " 150: u'dressing ordered',\n",
       " 151: u'dressing paid',\n",
       " 152: u'dressing passed',\n",
       " 153: u'dressing point',\n",
       " 154: u'eaten',\n",
       " 155: u'eaten say',\n",
       " 156: u'eating',\n",
       " 157: u'eating hoagie',\n",
       " 158: u'eating lettuce',\n",
       " 159: u'eating subway',\n",
       " 160: u'ed',\n",
       " 161: u'ed canned',\n",
       " 162: u'ed mushrooms',\n",
       " 163: u'employee',\n",
       " 164: u'employee restaurant',\n",
       " 165: u'establishment',\n",
       " 166: u'establishment unless',\n",
       " 167: u'excellent',\n",
       " 168: u'excellent food',\n",
       " 169: u'exceptionally',\n",
       " 170: u'exceptionally bad',\n",
       " 171: u'exceptionally great',\n",
       " 172: u'exploding',\n",
       " 173: u'exploding meat',\n",
       " 174: u'failure',\n",
       " 175: u'failure pizza',\n",
       " 176: u'fairly',\n",
       " 177: u'fairly decent',\n",
       " 178: u'fashioned',\n",
       " 179: u'fashioned menu',\n",
       " 180: u'fast',\n",
       " 181: u'fast make',\n",
       " 182: u'felt',\n",
       " 183: u'felt sucker',\n",
       " 184: u'financial',\n",
       " 185: u'financial trouble',\n",
       " 186: u'flags',\n",
       " 187: u'flags indicating',\n",
       " 188: u'flash',\n",
       " 189: u'flash need',\n",
       " 190: u'food',\n",
       " 191: u'food daily',\n",
       " 192: u'food speciality',\n",
       " 193: u'food superb',\n",
       " 194: u'formed',\n",
       " 195: u'formed crust',\n",
       " 196: u'free',\n",
       " 197: u'free hoagie',\n",
       " 198: u'fresh',\n",
       " 199: u'fresh dough',\n",
       " 200: u'fresh mushrooms',\n",
       " 201: u'fresh onions',\n",
       " 202: u'fresh overall',\n",
       " 203: u'fresh veggies',\n",
       " 204: u'friendly',\n",
       " 205: u'friendly counter',\n",
       " 206: u'frozen',\n",
       " 207: u'frozen ingredients',\n",
       " 208: u'general',\n",
       " 209: u'general run',\n",
       " 210: u'going',\n",
       " 211: u'going lose',\n",
       " 212: u'going pay',\n",
       " 213: u'good',\n",
       " 214: u'good alternative',\n",
       " 215: u'good banana',\n",
       " 216: u'good pre',\n",
       " 217: u'good toasted',\n",
       " 218: u'great',\n",
       " 219: u'great exceptionally',\n",
       " 220: u'great place',\n",
       " 221: u'guess',\n",
       " 222: u'guess says',\n",
       " 223: u'ham',\n",
       " 224: u'ham salami',\n",
       " 225: u'happened',\n",
       " 226: u'happened opened',\n",
       " 227: u'hell',\n",
       " 228: u'hell puts',\n",
       " 229: u'hoagie',\n",
       " 230: u'hoagie actually',\n",
       " 231: u'hoagie atrocious',\n",
       " 232: u'hoagie awesome',\n",
       " 233: u'hoagie bun',\n",
       " 234: u'hoagie came',\n",
       " 235: u'hoagie competition',\n",
       " 236: u'hoagie delicious',\n",
       " 237: u'hoagie disqualifies',\n",
       " 238: u'hoagie ham',\n",
       " 239: u'hoagie institution',\n",
       " 240: u'hoagie italian',\n",
       " 241: u'hoagie little',\n",
       " 242: u'hoagie microscopically',\n",
       " 243: u'hoagie mushrooms',\n",
       " 244: u'hoagie ordered',\n",
       " 245: u'hoagie pass',\n",
       " 246: u'hoagie pay',\n",
       " 247: u'hoagie possibly',\n",
       " 248: u'hoagie price',\n",
       " 249: u'hoagie right',\n",
       " 250: u'hoagie slice',\n",
       " 251: u'hoagie steak',\n",
       " 252: u'hoagie thoroughly',\n",
       " 253: u'hoagie traveling',\n",
       " 254: u'hoagie ve',\n",
       " 255: u'hoagie voted',\n",
       " 256: u'hoagie writing',\n",
       " 257: u'hoagies',\n",
       " 258: u'hoagies intentionally',\n",
       " 259: u'hoagies italian',\n",
       " 260: u'hoagies onion',\n",
       " 261: u'hoagies substantial',\n",
       " 262: u'hoggies',\n",
       " 263: u'hoggies food',\n",
       " 264: u'huge',\n",
       " 265: u'huge price',\n",
       " 266: u'ice',\n",
       " 267: u'ice cream',\n",
       " 268: u'indicating',\n",
       " 269: u'indicating place',\n",
       " 270: u'ingredients',\n",
       " 271: u'ingredients fresh',\n",
       " 272: u'ingredients toppings',\n",
       " 273: u'inside',\n",
       " 274: u'inside badly',\n",
       " 275: u'institution',\n",
       " 276: u'institution walking',\n",
       " 277: u'intentionally',\n",
       " 278: u'intentionally patronize',\n",
       " 279: u'italian',\n",
       " 280: u'italian dressing',\n",
       " 281: u'italian general',\n",
       " 282: u'italian hoagie',\n",
       " 283: u'italian ordered',\n",
       " 284: u'italian red',\n",
       " 285: u'italian told',\n",
       " 286: u'just',\n",
       " 287: u'just saved',\n",
       " 288: u'kidding',\n",
       " 289: u'kidding just',\n",
       " 290: u'large',\n",
       " 291: u'large selection',\n",
       " 292: u'left',\n",
       " 293: u'left mr',\n",
       " 294: u'lettuce',\n",
       " 295: u'lettuce meat',\n",
       " 296: u'lettuce onion',\n",
       " 297: u'lettuce onions',\n",
       " 298: u'lettuce tomato',\n",
       " 299: u'like',\n",
       " 300: u'like bun',\n",
       " 301: u'like place',\n",
       " 302: u'like throwback',\n",
       " 303: u'literally',\n",
       " 304: u'literally open',\n",
       " 305: u'little',\n",
       " 306: u'little amounts',\n",
       " 307: u'little dated',\n",
       " 308: u'lose',\n",
       " 309: u'lose business',\n",
       " 310: u'lot',\n",
       " 311: u'lot good',\n",
       " 312: u'machines',\n",
       " 313: u'machines used',\n",
       " 314: u'make',\n",
       " 315: u'make order',\n",
       " 316: u'mario',\n",
       " 317: u'mario machines',\n",
       " 318: u'maybe',\n",
       " 319: u'maybe wouldn',\n",
       " 320: u'mayo',\n",
       " 321: u'mayo pay',\n",
       " 322: u'meat',\n",
       " 323: u'meat hoagie',\n",
       " 324: u'meat previous',\n",
       " 325: u'meat subway',\n",
       " 326: u'meat thought',\n",
       " 327: u'meat ton',\n",
       " 328: u'mentioned',\n",
       " 329: u'mentioned maybe',\n",
       " 330: u'menu',\n",
       " 331: u'menu board',\n",
       " 332: u'microscopically',\n",
       " 333: u'microscopically slices',\n",
       " 334: u'minimal',\n",
       " 335: u'minimal meat',\n",
       " 336: u'miss',\n",
       " 337: u'miss mario',\n",
       " 338: u'mistaken',\n",
       " 339: u'mistaken reason',\n",
       " 340: u'money',\n",
       " 341: u'money declining',\n",
       " 342: u'money passing',\n",
       " 343: u'mr',\n",
       " 344: u'mr hoagie',\n",
       " 345: u'mugged',\n",
       " 346: u'mugged left',\n",
       " 347: u'mushrooms',\n",
       " 348: u'mushrooms cooked',\n",
       " 349: u'mushrooms onions',\n",
       " 350: u'mushrooms saut',\n",
       " 351: u'mushrooms sign',\n",
       " 352: u'neat',\n",
       " 353: u'neat cons',\n",
       " 354: u'need',\n",
       " 355: u'need serve',\n",
       " 356: u'needs',\n",
       " 357: u'needs updated',\n",
       " 358: u'news',\n",
       " 359: u'news flash',\n",
       " 360: u'non',\n",
       " 361: u'non chain',\n",
       " 362: u'normally',\n",
       " 363: u'normally reviews',\n",
       " 364: u'obviously',\n",
       " 365: u'obviously cooked',\n",
       " 366: u'old',\n",
       " 367: u'old fashioned',\n",
       " 368: u'onion',\n",
       " 369: u'onion hoagie',\n",
       " 370: u'onion rings',\n",
       " 371: u'onions',\n",
       " 372: u'onions cheese',\n",
       " 373: u'onions crunchy',\n",
       " 374: u'onions dressing',\n",
       " 375: u'onions tomato',\n",
       " 376: u'open',\n",
       " 377: u'open hoagie',\n",
       " 378: u'opened',\n",
       " 379: u'opened hoagie',\n",
       " 380: u'opened weekend',\n",
       " 381: u'order',\n",
       " 382: u'order burger',\n",
       " 383: u'order spot',\n",
       " 384: u'ordered',\n",
       " 385: u'ordered lettuce',\n",
       " 386: u'ordered woman',\n",
       " 387: u'overall',\n",
       " 388: u'overall good',\n",
       " 389: u'paid',\n",
       " 390: u'paid add',\n",
       " 391: u'paid hoagies',\n",
       " 392: u'pales',\n",
       " 393: u'pales comparison',\n",
       " 394: u'pasquales',\n",
       " 395: u'pasquales road',\n",
       " 396: u'pass',\n",
       " 397: u'pass pizza',\n",
       " 398: u'passed',\n",
       " 399: u'passed principle',\n",
       " 400: u'passing',\n",
       " 401: u'passing lettuce',\n",
       " 402: u'patronize',\n",
       " 403: u'patronize non',\n",
       " 404: u'patties',\n",
       " 405: u'patties obviously',\n",
       " 406: u'pay',\n",
       " 407: u'pay add',\n",
       " 408: u'pay declined',\n",
       " 409: u'pay dressing',\n",
       " 410: u'pennysaver',\n",
       " 411: u'pennysaver awards',\n",
       " 412: u'personally',\n",
       " 413: u'personally hoagies',\n",
       " 414: u'piled',\n",
       " 415: u'piled toppings',\n",
       " 416: u'pizza',\n",
       " 417: u'pizza cheap',\n",
       " 418: u'pizza good',\n",
       " 419: u'place',\n",
       " 420: u'place appears',\n",
       " 421: u'place financial',\n",
       " 422: u'place inside',\n",
       " 423: u'place little',\n",
       " 424: u'place lot',\n",
       " 425: u'place possibly',\n",
       " 426: u'place steeped',\n",
       " 427: u'pleasant',\n",
       " 428: u'pleasant fast',\n",
       " 429: u'point',\n",
       " 430: u'point certain',\n",
       " 431: u'popular',\n",
       " 432: u'popular hoagie',\n",
       " 433: u'possibly',\n",
       " 434: u'possibly win',\n",
       " 435: u'possibly worst',\n",
       " 436: u'poster',\n",
       " 437: u'poster mentioned',\n",
       " 438: u'pre',\n",
       " 439: u'pre formed',\n",
       " 440: u'previous',\n",
       " 441: u'previous poster',\n",
       " 442: u'price',\n",
       " 443: u'price difference',\n",
       " 444: u'price failure',\n",
       " 445: u'price tag',\n",
       " 446: u'principle',\n",
       " 447: u'principle kidding',\n",
       " 448: u'pros',\n",
       " 449: u'pros italian',\n",
       " 450: u'punched',\n",
       " 451: u'punched mugged',\n",
       " 452: u'puts',\n",
       " 453: u'puts disgusting',\n",
       " 454: u'quality',\n",
       " 455: u'quality ingredients',\n",
       " 456: u'rating',\n",
       " 457: u'rating exceptionally',\n",
       " 458: u'reader',\n",
       " 459: u'reader choice',\n",
       " 460: u'really',\n",
       " 461: u'really good',\n",
       " 462: u'really special',\n",
       " 463: u'reason',\n",
       " 464: u'reason didn',\n",
       " 465: u'reason place',\n",
       " 466: u'red',\n",
       " 467: u'red flags',\n",
       " 468: u'restaurant',\n",
       " 469: u'restaurant clean',\n",
       " 470: u'restaurants',\n",
       " 471: u'restaurants support',\n",
       " 472: u'review',\n",
       " 473: u'review trip',\n",
       " 474: u'reviews',\n",
       " 475: u'reviews establishment',\n",
       " 476: u'right',\n",
       " 477: u'right away',\n",
       " 478: u'right place',\n",
       " 479: u'rings',\n",
       " 480: u'rings cost',\n",
       " 481: u'road',\n",
       " 482: u'road better',\n",
       " 483: u'run',\n",
       " 484: u'run minimal',\n",
       " 485: u'sadly',\n",
       " 486: u'sadly mistaken',\n",
       " 487: u'salami',\n",
       " 488: u'salami bologna',\n",
       " 489: u'salami steak',\n",
       " 490: u'saut',\n",
       " 491: u'saut ed',\n",
       " 492: u'saved',\n",
       " 493: u'saved money',\n",
       " 494: u'say',\n",
       " 495: u'say eating',\n",
       " 496: u'says',\n",
       " 497: u'says hoagie',\n",
       " 498: u'second',\n",
       " 499: u'second steak',\n",
       " 500: u'selection',\n",
       " 501: u'selection food',\n",
       " 502: u'serve',\n",
       " 503: u'serve fresh',\n",
       " 504: u'service',\n",
       " 505: u'service miss',\n",
       " 506: u'shredded',\n",
       " 507: u'shredded lettuce',\n",
       " 508: u'sign',\n",
       " 509: u'sign place',\n",
       " 510: u'slice',\n",
       " 511: u'slice bologna',\n",
       " 512: u'slices',\n",
       " 513: u'slices meat',\n",
       " 514: u'small',\n",
       " 515: u'small businesses',\n",
       " 516: u'special',\n",
       " 517: u'special worthy',\n",
       " 518: u'speciality',\n",
       " 519: u'speciality italian',\n",
       " 520: u'specials',\n",
       " 521: u'specials ice',\n",
       " 522: u'split',\n",
       " 523: u'split piled',\n",
       " 524: u'spot',\n",
       " 525: u'spot fresh',\n",
       " 526: u'staff',\n",
       " 527: u'staff friendly',\n",
       " 528: u'staff pleasant',\n",
       " 529: u'star',\n",
       " 530: u'star bread',\n",
       " 531: u'steak',\n",
       " 532: u'steak hoagie',\n",
       " 533: u'steak personally',\n",
       " 534: u'steak taste',\n",
       " 535: u'steeped',\n",
       " 536: u'steeped tradition',\n",
       " 537: u'substantial',\n",
       " 538: u'substantial quality',\n",
       " 539: u'subway',\n",
       " 540: u'subway better',\n",
       " 541: u'subway really',\n",
       " 542: u'subway road',\n",
       " 543: u'sucker',\n",
       " 544: u'sucker punched',\n",
       " 545: u'superb',\n",
       " 546: u'superb customer',\n",
       " 547: u'support',\n",
       " 548: u'support small',\n",
       " 549: u'tag',\n",
       " 550: u'tag second',\n",
       " 551: u'taste',\n",
       " 552: u'taste hoagie',\n",
       " 553: u'thinking',\n",
       " 554: u'thinking reader',\n",
       " 555: u'thoroughly',\n",
       " 556: u'thoroughly disappointed',\n",
       " 557: u'thought',\n",
       " 558: u'thought eating',\n",
       " 559: u'throwback',\n",
       " 560: u'throwback years',\n",
       " 561: u'toasted',\n",
       " 562: u'toasted hoagie',\n",
       " 563: u'told',\n",
       " 564: u'told charge',\n",
       " 565: u'told popular',\n",
       " 566: u'tomato',\n",
       " 567: u'tomato fresh',\n",
       " 568: u'tomato going',\n",
       " 569: u'tomato italian',\n",
       " 570: u'tomato onions',\n",
       " 571: u'ton',\n",
       " 572: u'ton shredded',\n",
       " 573: u'toppings',\n",
       " 574: u'toppings paid',\n",
       " 575: u'toppings win',\n",
       " 576: u'tradition',\n",
       " 577: u'traveling',\n",
       " 578: u'traveling eating',\n",
       " 579: u'trip',\n",
       " 580: u'trip paid',\n",
       " 581: u'trouble',\n",
       " 582: u'trouble blinding',\n",
       " 583: u'trouble literally',\n",
       " 584: u'trouble pales',\n",
       " 585: u'undercooked',\n",
       " 586: u'undercooked news',\n",
       " 587: u'unless',\n",
       " 588: u'unless rating',\n",
       " 589: u'updated',\n",
       " 590: u'updated staff',\n",
       " 591: u'used',\n",
       " 592: u'used great',\n",
       " 593: u'usually',\n",
       " 594: u'usually order',\n",
       " 595: u'value',\n",
       " 596: u'value hoagie',\n",
       " 597: u've',\n",
       " 598: u've eaten',\n",
       " 599: u'veggies',\n",
       " 600: u'veggies hoggies',\n",
       " 601: u'view',\n",
       " 602: u'view area',\n",
       " 603: u'voted',\n",
       " 604: u'voted best',\n",
       " 605: u'wake',\n",
       " 606: u'wake going',\n",
       " 607: u'walking',\n",
       " 608: u'walking does',\n",
       " 609: u'weekend',\n",
       " 610: u'weekend staff',\n",
       " 611: u'win',\n",
       " 612: u'win best',\n",
       " 613: u'win pennysaver',\n",
       " 614: u'woman',\n",
       " 615: u'woman working',\n",
       " 616: u'working',\n",
       " 617: u'working told',\n",
       " 618: u'worst',\n",
       " 619: u'worst value',\n",
       " 620: u'worthy',\n",
       " 621: u'worthy price',\n",
       " 622: u'wouldn',\n",
       " 623: u'wouldn like',\n",
       " 624: u'writing',\n",
       " 625: u'writing bad',\n",
       " 626: u'year',\n",
       " 627: u'year usually',\n",
       " 628: u'year year',\n",
       " 629: u'years',\n",
       " 630: u'years ago',\n",
       " 631: u'yes',\n",
       " 632: u'yes place'}"
      ]
     },
     "execution_count": 15,
     "metadata": {},
     "output_type": "execute_result"
    }
   ],
   "source": [
    "id2word"
   ]
  },
  {
   "cell_type": "code",
   "execution_count": 16,
   "metadata": {
    "collapsed": true,
    "run_control": {
     "frozen": false,
     "read_only": false
    }
   },
   "outputs": [],
   "source": [
    "lda = models.LdaModel(corpus = corpus, num_topics = 5, id2word = id2word, passes = 5)"
   ]
  },
  {
   "cell_type": "code",
   "execution_count": 17,
   "metadata": {
    "collapsed": false,
    "run_control": {
     "frozen": false,
     "read_only": false
    }
   },
   "outputs": [
    {
     "data": {
      "text/plain": [
       "[(0,\n",
       "  u'0.011*\"hoagie\" + 0.009*\"food\" + 0.009*\"year\" + 0.006*\"place\" + 0.005*\"italian\" + 0.005*\"like\" + 0.005*\"great\" + 0.005*\"mario machines\" + 0.005*\"great place\" + 0.005*\"excellent food\"'),\n",
       " (1,\n",
       "  u'0.027*\"hoagie\" + 0.012*\"meat\" + 0.010*\"price\" + 0.009*\"better\" + 0.009*\"place\" + 0.009*\"like\" + 0.006*\"hoagies\" + 0.006*\"steak hoagie\" + 0.006*\"cheese\" + 0.006*\"steak\"'),\n",
       " (2,\n",
       "  u'0.003*\"hoagie\" + 0.002*\"onions\" + 0.002*\"dressing\" + 0.002*\"mushrooms\" + 0.002*\"lettuce\" + 0.002*\"cheese\" + 0.002*\"italian\" + 0.002*\"hoagies\" + 0.002*\"steak\" + 0.002*\"onions dressing\"'),\n",
       " (3,\n",
       "  u'0.017*\"pizza\" + 0.012*\"hoagie\" + 0.007*\"italian\" + 0.007*\"fresh\" + 0.006*\"italian hoagie\" + 0.006*\"hoagie delicious\" + 0.006*\"clean neat\" + 0.006*\"formed crust\" + 0.006*\"guess says\" + 0.006*\"guess\"'),\n",
       " (4,\n",
       "  u'0.024*\"hoagie\" + 0.012*\"onions\" + 0.011*\"dressing\" + 0.009*\"tomato\" + 0.009*\"italian\" + 0.009*\"mushrooms\" + 0.007*\"place\" + 0.007*\"lettuce\" + 0.007*\"bologna\" + 0.006*\"fresh\"')]"
      ]
     },
     "execution_count": 17,
     "metadata": {},
     "output_type": "execute_result"
    }
   ],
   "source": [
    "lda.print_topics()"
   ]
  },
  {
   "cell_type": "code",
   "execution_count": 18,
   "metadata": {
    "collapsed": true,
    "run_control": {
     "frozen": false,
     "read_only": false
    }
   },
   "outputs": [],
   "source": [
    "lda_corpus = lda[corpus]"
   ]
  },
  {
   "cell_type": "code",
   "execution_count": 19,
   "metadata": {
    "collapsed": true,
    "run_control": {
     "frozen": false,
     "read_only": false
    }
   },
   "outputs": [],
   "source": [
    "lda_docs = [doc for doc in lda_corpus]"
   ]
  },
  {
   "cell_type": "code",
   "execution_count": 20,
   "metadata": {
    "collapsed": false,
    "run_control": {
     "frozen": false,
     "read_only": false
    }
   },
   "outputs": [
    {
     "data": {
      "text/plain": [
       "[[(1, 0.99517001034099251)],\n",
       " [(4, 0.98662222465625549)],\n",
       " [(1, 0.98396965570954631)],\n",
       " [(0, 0.98971175090813091)],\n",
       " [(3, 0.98513998568222771)],\n",
       " [(4, 0.9979438926136196)],\n",
       " [(0, 0.96918791840724261)]]"
      ]
     },
     "execution_count": 20,
     "metadata": {},
     "output_type": "execute_result"
    }
   ],
   "source": [
    "lda_docs"
   ]
  },
  {
   "cell_type": "markdown",
   "metadata": {
    "run_control": {
     "frozen": false,
     "read_only": false
    }
   },
   "source": [
    "*LDA hard to interpret"
   ]
  },
  {
   "cell_type": "markdown",
   "metadata": {
    "run_control": {
     "frozen": false,
     "read_only": false
    }
   },
   "source": [
    "# Word2Vec"
   ]
  },
  {
   "cell_type": "markdown",
   "metadata": {
    "run_control": {
     "frozen": false,
     "read_only": false
    }
   },
   "source": [
    "# Using Pretrained Vectors from Google"
   ]
  },
  {
   "cell_type": "code",
   "execution_count": 21,
   "metadata": {
    "collapsed": true,
    "run_control": {
     "frozen": false,
     "read_only": false
    }
   },
   "outputs": [],
   "source": [
    "goog_model = gensim.models.Word2Vec.load('googmodel')"
   ]
  },
  {
   "cell_type": "code",
   "execution_count": 22,
   "metadata": {
    "collapsed": false,
    "run_control": {
     "frozen": false,
     "read_only": false
    }
   },
   "outputs": [],
   "source": [
    "review_vec = []\n",
    "for review in range(len(reviews)):\n",
    "    result = []\n",
    "    words = reviews[review].split()\n",
    "    for word in words:\n",
    "        try:\n",
    "            result.append(goog_model[word])\n",
    "        except:\n",
    "            pass\n",
    "    review_vec.append(np.array(result).mean(axis=0))"
   ]
  },
  {
   "cell_type": "code",
   "execution_count": 23,
   "metadata": {
    "collapsed": false,
    "run_control": {
     "frozen": false,
     "read_only": false
    }
   },
   "outputs": [],
   "source": [
    "X = np.array(review_vec)\n",
    "inert = []\n",
    "for n in range(1, 6):\n",
    "    kmeans = KMeans(n_clusters = n, random_state=0).fit(X)\n",
    "    clusters = kmeans.predict(X)\n",
    "    inert.append(kmeans.inertia_)"
   ]
  },
  {
   "cell_type": "code",
   "execution_count": 24,
   "metadata": {
    "collapsed": false,
    "run_control": {
     "frozen": false,
     "read_only": false
    }
   },
   "outputs": [
    {
     "data": {
      "text/plain": [
       "[<matplotlib.lines.Line2D at 0x123970950>]"
      ]
     },
     "execution_count": 24,
     "metadata": {},
     "output_type": "execute_result"
    },
    {
     "data": {
      "image/png": "[encoded data removed]",
      "text/plain": [
       "<matplotlib.figure.Figure at 0x11d0a3410>"
      ]
     },
     "metadata": {},
     "output_type": "display_data"
    }
   ],
   "source": [
    "xaxis = range(1,6,1)\n",
    "plt.xlabel('Clusters')\n",
    "plt.ylabel('Inertia')\n",
    "plt.plot(xaxis,inert)"
   ]
  },
  {
   "cell_type": "markdown",
   "metadata": {
    "run_control": {
     "frozen": false,
     "read_only": false
    }
   },
   "source": [
    "3 clusters was chosen as optimal"
   ]
  },
  {
   "cell_type": "code",
   "execution_count": 25,
   "metadata": {
    "collapsed": false,
    "run_control": {
     "frozen": false,
     "read_only": false
    }
   },
   "outputs": [],
   "source": [
    "kmeans = KMeans(n_clusters = 3, random_state=0).fit(X)\n",
    "clusters = kmeans.predict(X)\n",
    "centroids = kmeans.cluster_centers_"
   ]
  },
  {
   "cell_type": "code",
   "execution_count": 26,
   "metadata": {
    "collapsed": true,
    "run_control": {
     "frozen": false,
     "read_only": false
    }
   },
   "outputs": [],
   "source": [
    "goog_words = goog_model.syn0"
   ]
  },
  {
   "cell_type": "markdown",
   "metadata": {
    "run_control": {
     "frozen": false,
     "read_only": false
    }
   },
   "source": [
    "# Minkowski Distance"
   ]
  },
  {
   "cell_type": "code",
   "execution_count": 27,
   "metadata": {
    "collapsed": false,
    "run_control": {
     "frozen": false,
     "read_only": false
    }
   },
   "outputs": [],
   "source": [
    "tree = BallTree(goog_words, leaf_size=2) "
   ]
  },
  {
   "cell_type": "code",
   "execution_count": 28,
   "metadata": {
    "collapsed": false,
    "run_control": {
     "frozen": false,
     "read_only": false
    }
   },
   "outputs": [
    {
     "name": "stderr",
     "output_type": "stream",
     "text": [
      "/Users/Sam/anaconda2/lib/python2.7/site-packages/sklearn/utils/validation.py:395: DeprecationWarning: Passing 1d arrays as data is deprecated in 0.17 and will raise ValueError in 0.19. Reshape your data either using X.reshape(-1, 1) if your data has a single feature or X.reshape(1, -1) if it contains a single sample.\n",
      "  DeprecationWarning)\n",
      "/Users/Sam/anaconda2/lib/python2.7/site-packages/sklearn/utils/validation.py:395: DeprecationWarning: Passing 1d arrays as data is deprecated in 0.17 and will raise ValueError in 0.19. Reshape your data either using X.reshape(-1, 1) if your data has a single feature or X.reshape(1, -1) if it contains a single sample.\n",
      "  DeprecationWarning)\n",
      "/Users/Sam/anaconda2/lib/python2.7/site-packages/sklearn/utils/validation.py:395: DeprecationWarning: Passing 1d arrays as data is deprecated in 0.17 and will raise ValueError in 0.19. Reshape your data either using X.reshape(-1, 1) if your data has a single feature or X.reshape(1, -1) if it contains a single sample.\n",
      "  DeprecationWarning)\n"
     ]
    }
   ],
   "source": [
    "wordindexes = []\n",
    "for centroid in centroids:\n",
    "    dist, ind = tree.query(centroid, k=3) \n",
    "    wordindexes.append(ind)"
   ]
  },
  {
   "cell_type": "code",
   "execution_count": 29,
   "metadata": {
    "collapsed": false,
    "run_control": {
     "frozen": false,
     "read_only": false
    }
   },
   "outputs": [],
   "source": [
    "wordindices = []\n",
    "for index in range(len(wordindexes)):\n",
    "    for num in range(len(wordindexes[index][0])):\n",
    "        if wordindexes[index][0][num] not in wordindices:\n",
    "                wordindices.append(wordindexes[index][0][num])\n",
    "            "
   ]
  },
  {
   "cell_type": "code",
   "execution_count": 30,
   "metadata": {
    "collapsed": false,
    "run_control": {
     "frozen": false,
     "read_only": false
    }
   },
   "outputs": [
    {
     "name": "stdout",
     "output_type": "stream",
     "text": [
      "GREG_POTTER_Yes\n",
      "TONY_STEWART_Yeah\n",
      "KIM_CLIJSTERS_Yeah\n",
      "MICHELLE_WIE_Yeah\n",
      "%_#F########_3v.jsn\n",
      "UDBKL\n",
      "MVES_lunch\n",
      "SECRETARY_RICE_Yeah\n"
     ]
    }
   ],
   "source": [
    "for elem in wordindices:\n",
    "    print goog_model.index2word[elem]"
   ]
  },
  {
   "cell_type": "markdown",
   "metadata": {
    "run_control": {
     "frozen": false,
     "read_only": false
    }
   },
   "source": [
    "Better to use cosine distance for NLP."
   ]
  },
  {
   "cell_type": "markdown",
   "metadata": {
    "run_control": {
     "frozen": false,
     "read_only": false
    }
   },
   "source": [
    "# Cosine Distance with Nearest Neighbors"
   ]
  },
  {
   "cell_type": "code",
   "execution_count": 31,
   "metadata": {
    "collapsed": false,
    "run_control": {
     "frozen": false,
     "read_only": false
    }
   },
   "outputs": [
    {
     "data": {
      "text/plain": [
       "NearestNeighbors(algorithm='brute', leaf_size=30, metric='cosine',\n",
       "         metric_params=None, n_jobs=1, n_neighbors=5, p=2, radius=1.0)"
      ]
     },
     "execution_count": 31,
     "metadata": {},
     "output_type": "execute_result"
    }
   ],
   "source": [
    "from sklearn.neighbors import NearestNeighbors\n",
    "\n",
    "neigh = NearestNeighbors(n_neighbors=5, algorithm='brute', metric='cosine')\n",
    "neigh.fit(goog_words)"
   ]
  },
  {
   "cell_type": "code",
   "execution_count": 32,
   "metadata": {
    "collapsed": false,
    "run_control": {
     "frozen": false,
     "read_only": false
    }
   },
   "outputs": [
    {
     "name": "stderr",
     "output_type": "stream",
     "text": [
      "/Users/Sam/anaconda2/lib/python2.7/site-packages/sklearn/utils/validation.py:395: DeprecationWarning: Passing 1d arrays as data is deprecated in 0.17 and will raise ValueError in 0.19. Reshape your data either using X.reshape(-1, 1) if your data has a single feature or X.reshape(1, -1) if it contains a single sample.\n",
      "  DeprecationWarning)\n",
      "/Users/Sam/anaconda2/lib/python2.7/site-packages/sklearn/utils/validation.py:395: DeprecationWarning: Passing 1d arrays as data is deprecated in 0.17 and will raise ValueError in 0.19. Reshape your data either using X.reshape(-1, 1) if your data has a single feature or X.reshape(1, -1) if it contains a single sample.\n",
      "  DeprecationWarning)\n",
      "/Users/Sam/anaconda2/lib/python2.7/site-packages/sklearn/utils/validation.py:395: DeprecationWarning: Passing 1d arrays as data is deprecated in 0.17 and will raise ValueError in 0.19. Reshape your data either using X.reshape(-1, 1) if your data has a single feature or X.reshape(1, -1) if it contains a single sample.\n",
      "  DeprecationWarning)\n"
     ]
    }
   ],
   "source": [
    "wordindex_cos = []\n",
    "\n",
    "for centroid in centroids:\n",
    "    dist_cos, ind_cos = neigh.kneighbors(centroid, n_neighbors=100)\n",
    "    wordindex_cos.append(ind_cos)"
   ]
  },
  {
   "cell_type": "code",
   "execution_count": 33,
   "metadata": {
    "collapsed": false,
    "run_control": {
     "frozen": false,
     "read_only": false
    }
   },
   "outputs": [],
   "source": [
    "wordindices = []\n",
    "for index in range(len(wordindex_cos)):\n",
    "    for num in range(len(wordindex_cos[index][0])):\n",
    "        if wordindex_cos[index][0][num] not in wordindices:\n",
    "                wordindices.append(wordindex_cos[index][0][num])\n",
    "            "
   ]
  },
  {
   "cell_type": "code",
   "execution_count": 34,
   "metadata": {
    "collapsed": false,
    "run_control": {
     "frozen": false,
     "read_only": false
    }
   },
   "outputs": [
    {
     "name": "stdout",
     "output_type": "stream",
     "text": [
      "TONY_STEWART_Yeah\n",
      "NOVAK_DJOKOVIC_Yeah\n",
      "Pretty_classless\n",
      "pioneer_LaLanne\n",
      "KIM_CLIJSTERS_Yeah\n",
      "SERENA_WILLIAMS_Well\n",
      "TIM_HENMAN_Yeah\n",
      "GREG_POTTER_Yes\n",
      "COACH_BABCOCK\n",
      "GEOFF_OGILVY_Yeah\n",
      "PADRAIG_HARRINGTON_Yeah\n",
      "Nick_HEIDFELD\n",
      "really\n",
      "ANDY_RODDICK_Yeah\n",
      "JIM_FURYK_Yeah\n",
      "MICHELLE_WIE_Yeah\n",
      "SERENA_WILLIAMS_Yeah\n",
      "Johnnie_Baston_die\n",
      "just\n",
      "GREG_BIFFLE_Yeah\n",
      "Sebastian_VETTEL_Yeah\n",
      "THE_PRESIDENT_Okay\n",
      "Indeed_Rakieten\n",
      "VENUS_WILLIAMS_Yeah\n",
      "%_#F########_7v.jsn\n",
      "innkeeper_Chirag_Patel\n",
      "JELENA_JANKOVIC_Yeah\n",
      "SCOTT_DIXON_Yeah\n",
      "I'ma_stickler\n",
      "COACH_FISHER\n",
      "LH_Yeah\n",
      "Choreographed_chaos\n",
      "KEVIN_STREELMAN\n",
      "anyway\n",
      "ROGER_FEDERER_Yeah\n",
      "By_Laurelle_Gilbert\n",
      "JUSTINE_HENIN_Well\n",
      "MARIA_SHARAPOVA_Uhm\n",
      "HEATH_SLOCUM\n",
      "Carpe_diem_seize\n",
      "I\n",
      "By_Jonas_Elmerraji\n",
      "ANA_IVANOVIC_Yeah\n",
      "JEFF_BURTON_Well\n",
      "Trazanna_Moreno_decided\n",
      "ERNIE_ELS_Yeah\n",
      "ERNIE_ELS_Well\n",
      "ROBERT_BLAGOJEVICH\n",
      "Kimi_RÄIKKÖNEN\n",
      "Anglo_Saxon_metalworkers\n",
      "Tell_Squawk_Box\n",
      "Rubens_BARRICHELLO\n",
      "Wow_how'd\n",
      "JAMES_BLAKE_Yeah\n",
      "Pretty_darned\n",
      "AMÉLIE_MAURESMO\n",
      "JO_WILFRIED_TSONGA\n",
      "ebullient_Ohno\n",
      "Pure_unadulterated\n",
      "carbonated_cough_syrup\n",
      "RAFAEL_NADAL_Yeah\n",
      "COACH_QUENNEVILLE\n",
      "silly_Billen\n",
      "SEBASTIEN_BOURDAIS_Well\n",
      "SERGIO_GARCÍA\n",
      "MARTINA_HINGIS_Well\n",
      "A.I\n",
      "concentration_Petruzziello\n",
      "RICKY_HATTON_Yes\n",
      "%_#F########_9v.jsn\n",
      "UDBKL\n",
      "JEFF_GORDON_Yeah\n",
      "Cassell_chirped\n",
      "@_kiranchetrycnn_@\n",
      "STEVE_ADDINGTON\n",
      "BY_ANDY_THOMPSON\n",
      "AJ_ALLMENDINGER_Yeah\n",
      "PAUL_GOYDOS\n",
      "Woody_Allen_steamiest_WHAT\n",
      "JUSTIN_WILSON_Yeah\n",
      "BOUCHER_Yeah\n",
      "spokeswoman_Ewa_Malmborg\n",
      "JUSTIN_ROSE_Yeah\n",
      "AJ'sa\n",
      "samantharonson_@\n",
      "puffball_appearances\n",
      "MARILYN_ALVA_INVESTOR_'S\n",
      "MICHELLE_WIE_Well\n",
      "sweat_Bammer\n",
      "ANDY_RODDICK_Well\n",
      "FREE_QUOTE\n",
      "KENNY_PERRY_Well\n",
      "roomy_Derek_Boogaard\n",
      "EAGLE_COLO\n",
      "Heikki_KOVALAINEN\n",
      "funner_Halladay\n",
      "leannrimes_@\n",
      "iOTW_dictionary_CONTEST\n",
      "Tonight_Vanish\n",
      "less_sickly_butterscotch\n",
      "%_#F########_3v.jsn\n",
      "do\n",
      "sanctuary_DellaBianca\n",
      "so\n",
      "PRESIDENT_OBAMA_Hello\n",
      "obstruct_petty_larceny\n",
      "Losing_stinks\n",
      "AWell\n",
      "A.It_s\n",
      "GASTON_GAUDIO\n",
      "Vincent_Lecavalier_Stamkos\n",
      "THE_PRESIDENT_Yes\n",
      "By_SELENA_ROBERTS\n",
      "Chiddy_Bang_maybe\n",
      "actually\n",
      "STEVE_STRICKER_Yeah\n",
      "it\n",
      "Components_www.danaher.com\n",
      "symbol_UBSH\n",
      "SECRETARY_RICE_Yeah\n",
      "misspell_Murkowski\n",
      "hiding_Oclander\n",
      "TRUMP_Well\n",
      "probably\n",
      "By_Christine_Fenno\n",
      "LLEYTON_HEWITT_Yeah\n",
      "SFIO_Quote_Chart\n",
      "worry_Buddy_Shadid\n",
      "fluke_Cancellara\n",
      "Hey_how'd\n",
      "maybe\n",
      "mso_style_qformat\n",
      "By_Elise_Viebeck\n",
      "TERRY_FRANCONA_Well\n",
      "not\n",
      "sixteenth_pole_Castanon\n",
      "RETIEF_GOOSEN_Yeah\n",
      "RUSH_Yeah\n",
      "RICHARD_SEDDON_Yes\n",
      "but\n",
      "CDMHY\n",
      "Don'tI_deserve\n",
      "Ooops_sorry\n",
      "IWEBE\n",
      "chase_broads\n",
      "found_loophole_Conk\n",
      "GRAEME_McDOWELL_Yeah\n",
      "KF_OOE\n",
      "Whatta_ya\n",
      "MVES_lunch\n",
      "Mmmmmmm\n",
      "number_SS#####\n",
      "mso_style_noshow\n",
      "routinely_misspell\n",
      "the\n",
      "dear_madam\n",
      "Multiple_cardholders\n",
      "Blast_flattens_Colo.\n",
      "Whaddya_mean\n",
      "GET_OUR\n",
      "Puh_leez\n",
      "Stupid_stupid\n",
      "Aren'tI\n",
      "sandwich_BLT\n",
      "symbol_FCSX\n",
      "Carne_asada\n",
      "Er_um\n",
      "By_Kat_Zeman\n",
      "By_Tejas_Gunas\n",
      "Quit_griping\n",
      "Elecsys_Corporation_Reports\n",
      "CALLER_Okay\n",
      "IMIZ\n",
      "%_#F########_5v.jsn\n",
      "AS_MY_CLIENT\n",
      "Heidi_Klum_ponders\n",
      "Pacgen_Reports\n",
      "OKE_appears\n",
      "Watch_Jayni_online\n",
      "Cheese_curds\n",
      "ÔWhat\n",
      "By_Miriam_Reimer\n",
      "Sorry_ma'am\n",
      "say_Hey_feller\n",
      "HAYDEN_Yeah\n",
      "By_TREVON_MILLIARD\n",
      "simple_Evet\n",
      "By_Blake_Drehle\n",
      "C'est_Vrai_means\n",
      "To_William_Rechtenwald\n",
      "SoundSlam_Yeah\n",
      "Ding_dang\n",
      "By_CITIZEN_STAFF\n",
      "Couple_weds\n",
      "There_Meineke_muffler\n",
      "symbol_CADE\n",
      "Chiclone_buffets_Illinois\n",
      "Blanca_Laurean\n",
      "Whaddaya_mean\n",
      "Spicy_Jalapeno_flavors\n",
      "BY_BOB_BEHRE\n",
      "iReport.com_Are\n",
      "LiquidViagra\n",
      "Gregory_Waples\n",
      "MSCC_Quote_Chart\n"
     ]
    }
   ],
   "source": [
    "for elem in wordindices:\n",
    "    print goog_model.index2word[elem]"
   ]
  },
  {
   "cell_type": "markdown",
   "metadata": {
    "run_control": {
     "frozen": false,
     "read_only": false
    }
   },
   "source": [
    "Printing lots of words completely unrelated to reviews. Try the Stanford pretrained Word2Vec instead."
   ]
  },
  {
   "cell_type": "markdown",
   "metadata": {
    "run_control": {
     "frozen": false,
     "read_only": false
    }
   },
   "source": [
    "# Stanford Wikipedia"
   ]
  },
  {
   "cell_type": "code",
   "execution_count": 35,
   "metadata": {
    "collapsed": false,
    "run_control": {
     "frozen": false,
     "read_only": false
    }
   },
   "outputs": [],
   "source": [
    "stan_model = gensim.models.Word2Vec.load('w2v')"
   ]
  },
  {
   "cell_type": "code",
   "execution_count": 36,
   "metadata": {
    "collapsed": true,
    "run_control": {
     "frozen": false,
     "read_only": false
    }
   },
   "outputs": [],
   "source": [
    "from nltk.corpus import stopwords\n",
    "stop = set(stopwords.words('english'))"
   ]
  },
  {
   "cell_type": "code",
   "execution_count": 37,
   "metadata": {
    "collapsed": false,
    "run_control": {
     "frozen": false,
     "read_only": false
    }
   },
   "outputs": [],
   "source": [
    "review_vec = []\n",
    "for review in reviews:\n",
    "    result = []\n",
    "    words = review.split()\n",
    "    for word in words:\n",
    "        if word not in stop:\n",
    "            try:\n",
    "                result.append(stan_model[word.lower()])\n",
    "            except:\n",
    "                pass\n",
    "    review_vec.append(np.array(result).mean(axis = 0))"
   ]
  },
  {
   "cell_type": "code",
   "execution_count": 38,
   "metadata": {
    "collapsed": false,
    "run_control": {
     "frozen": false,
     "read_only": false
    }
   },
   "outputs": [
    {
     "data": {
      "text/plain": [
       "[(u'you', 0.8221941590309143),\n",
       " (u\"n't\", 0.7952711582183838),\n",
       " (u'so', 0.7886036038398743),\n",
       " (u'even', 0.7816715240478516),\n",
       " (u'just', 0.7696509957313538),\n",
       " (u'what', 0.7626189589500427),\n",
       " (u'?', 0.7589337825775146),\n",
       " (u'if', 0.756553590297699),\n",
       " (u'get', 0.7519210577011108),\n",
       " (u'but', 0.750282347202301),\n",
       " (u'good', 0.7486193180084229),\n",
       " (u'we', 0.7476129531860352),\n",
       " (u'i', 0.747099757194519),\n",
       " (u'really', 0.7457702159881592),\n",
       " (u'know', 0.7454687356948853),\n",
       " (u'because', 0.7430497407913208),\n",
       " (u'it', 0.7405262589454651),\n",
       " (u'something', 0.7401998043060303),\n",
       " (u'going', 0.7396260499954224),\n",
       " (u'sure', 0.7396171689033508),\n",
       " (u'things', 0.7392690777778625),\n",
       " (u'think', 0.7391953468322754),\n",
       " (u'make', 0.7352544069290161),\n",
       " (u'actually', 0.7339118719100952),\n",
       " (u\"'ll\", 0.7334117293357849),\n",
       " (u'want', 0.7326836585998535),\n",
       " (u'well', 0.7314688563346863),\n",
       " (u'not', 0.731255292892456),\n",
       " (u'come', 0.7303734421730042),\n",
       " (u'kind', 0.728805422782898),\n",
       " (u'they', 0.7282010912895203),\n",
       " (u'nothing', 0.7270098924636841),\n",
       " (u'anything', 0.7257372140884399),\n",
       " (u'way', 0.722938060760498),\n",
       " (u'thing', 0.7219682931900024),\n",
       " (u'do', 0.7215691208839417),\n",
       " (u'always', 0.7191627621650696),\n",
       " (u'everything', 0.7136271595954895),\n",
       " (u'maybe', 0.7124135494232178),\n",
       " (u'only', 0.7112220525741577),\n",
       " (u'enough', 0.7100580334663391),\n",
       " (u'like', 0.7084631323814392),\n",
       " (u'need', 0.7046154737472534),\n",
       " (u'should', 0.7045818567276001),\n",
       " (u'go', 0.7040202617645264),\n",
       " (u\"'re\", 0.7035622000694275),\n",
       " (u'this', 0.7013711929321289),\n",
       " (u\"'d\", 0.7013536691665649),\n",
       " (u'much', 0.7002387642860413),\n",
       " (u'better', 0.6997004747390747),\n",
       " (u'one', 0.6977429986000061),\n",
       " (u'can', 0.6957398056983948),\n",
       " (u'all', 0.6952282190322876),\n",
       " (u'might', 0.6947920322418213),\n",
       " (u\"'ve\", 0.693845808506012),\n",
       " (u'why', 0.6932523846626282),\n",
       " (u'how', 0.692501425743103),\n",
       " (u'same', 0.6913615465164185),\n",
       " (u'too', 0.6885279417037964),\n",
       " (u'that', 0.6884663701057434),\n",
       " (u'time', 0.6877816319465637),\n",
       " (u'done', 0.687445342540741),\n",
       " (u'probably', 0.6871535778045654),\n",
       " (u'though', 0.6862468719482422),\n",
       " (u'.', 0.6854445338249207),\n",
       " (u'does', 0.684095025062561),\n",
       " (u'fact', 0.6829777956008911),\n",
       " (u'look', 0.682403564453125),\n",
       " (u'could', 0.6823917627334595),\n",
       " (u'them', 0.6806649565696716),\n",
       " (u'did', 0.6803541779518127),\n",
       " (u'never', 0.6788790822029114),\n",
       " (u'there', 0.6786588430404663),\n",
       " (u'put', 0.6768397688865662),\n",
       " (u'simply', 0.6762682199478149),\n",
       " (u'thought', 0.6754223108291626),\n",
       " (u'me', 0.675190806388855),\n",
       " (u'else', 0.6751754879951477),\n",
       " (u'certainly', 0.672616720199585),\n",
       " (u'lot', 0.6721218824386597),\n",
       " (u'take', 0.6693190932273865),\n",
       " (u'rather', 0.6675564646720886),\n",
       " (u'would', 0.6672177314758301),\n",
       " (u'those', 0.666313648223877),\n",
       " (u'very', 0.6645556092262268),\n",
       " (u'few', 0.6644630432128906),\n",
       " (u'whole', 0.664334237575531),\n",
       " (u'say', 0.6617406606674194),\n",
       " (u'every', 0.6609330773353577),\n",
       " (u'any', 0.6605483293533325),\n",
       " (u'everyone', 0.660423994064331),\n",
       " (u'be', 0.6565735340118408),\n",
       " (u'let', 0.6564168334007263),\n",
       " (u'got', 0.6560423970222473),\n",
       " (u'no', 0.6560270190238953),\n",
       " (u'little', 0.6556915044784546),\n",
       " (u'more', 0.652556836605072),\n",
       " (u'sort', 0.6520246267318726),\n",
       " (u'having', 0.6503818035125732),\n",
       " (u'instead', 0.6501711010932922),\n",
       " (u'my', 0.6494140028953552),\n",
       " (u'your', 0.6493245959281921),\n",
       " (u'ever', 0.646948516368866),\n",
       " (u'indeed', 0.6462404131889343),\n",
       " (u'some', 0.6461238861083984),\n",
       " (u'give', 0.6460679769515991),\n",
       " (u'when', 0.6439036130905151),\n",
       " (u'now', 0.6437439322471619),\n",
       " (u'ca', 0.6434582471847534),\n",
       " (u'yet', 0.6423860788345337),\n",
       " (u'doing', 0.6423588991165161),\n",
       " (u'have', 0.6422186493873596),\n",
       " (u'once', 0.6401958465576172),\n",
       " (u'find', 0.6393247842788696),\n",
       " (u'reason', 0.6389709711074829),\n",
       " (u'getting', 0.6385984420776367),\n",
       " (u'out', 0.6367879509925842),\n",
       " (u'perhaps', 0.6366565227508545),\n",
       " (u'see', 0.6360511779785156),\n",
       " (u'coming', 0.6358137130737305),\n",
       " (u'big', 0.6354162693023682),\n",
       " (u'either', 0.6346675753593445),\n",
       " (u'these', 0.6341590285301208),\n",
       " (u\"'m\", 0.6341098546981812),\n",
       " (u'than', 0.6336382627487183),\n",
       " (u'...', 0.6328528523445129),\n",
       " (u'up', 0.6322006583213806),\n",
       " (u'mean', 0.6319615840911865),\n",
       " (u'making', 0.6312292814254761),\n",
       " (u'whatever', 0.6308812499046326),\n",
       " (u'wo', 0.6303890943527222),\n",
       " (u'anyone', 0.6295816898345947),\n",
       " (u'must', 0.6294175386428833),\n",
       " (u'keep', 0.6277901530265808),\n",
       " (u'example', 0.6229103803634644),\n",
       " (u'without', 0.622654139995575),\n",
       " (u'still', 0.6225571036338806),\n",
       " (u'turn', 0.6214869618415833),\n",
       " (u'best', 0.6209349632263184),\n",
       " (u'quite', 0.6205368041992188),\n",
       " (u'less', 0.619282603263855),\n",
       " (u'another', 0.6191353797912598),\n",
       " (u'longer', 0.6179870963096619),\n",
       " (u'hard', 0.6173556447029114),\n",
       " (u'he', 0.6173042058944702),\n",
       " (u'makes', 0.6172255873680115),\n",
       " (u'able', 0.6160532832145691),\n",
       " (u'our', 0.6157068014144897),\n",
       " (u'here', 0.6147719621658325),\n",
       " (u'anyway', 0.6139401793479919),\n",
       " (u'means', 0.6125766634941101),\n",
       " (u'again', 0.6122670769691467),\n",
       " (u'instance', 0.6117169260978699),\n",
       " (u'the', 0.6103475093841553),\n",
       " (u'such', 0.6092202663421631),\n",
       " (u'feel', 0.6085320711135864),\n",
       " (u'bring', 0.6071734428405762),\n",
       " (u'wanted', 0.6068612933158875),\n",
       " (u'seems', 0.6063948273658752),\n",
       " (u'tell', 0.6055552959442139),\n",
       " (u'or', 0.6052159070968628),\n",
       " (u'then', 0.6047033071517944),\n",
       " (u'although', 0.6043895483016968),\n",
       " (u'rest', 0.6037222743034363),\n",
       " (u'most', 0.6023954749107361),\n",
       " (u'easy', 0.6021092534065247),\n",
       " (u'looking', 0.6018999814987183),\n",
       " (u'gone', 0.6009029150009155),\n",
       " (u'stuff', 0.6008756160736084),\n",
       " (u',', 0.6008687615394592),\n",
       " (u'comes', 0.5999447107315063),\n",
       " (u'given', 0.5992014408111572),\n",
       " (u'own', 0.5988593697547913),\n",
       " (u'and', 0.5987410545349121),\n",
       " (u'meant', 0.5987109541893005),\n",
       " (u'especially', 0.5977243781089783),\n",
       " (u'place', 0.5974924564361572),\n",
       " (u'which', 0.5971907377243042),\n",
       " (u'definitely', 0.5970841646194458),\n",
       " (u'believe', 0.5958945155143738),\n",
       " (u'many', 0.5958473682403564),\n",
       " (u'``', 0.5957552194595337),\n",
       " (u'back', 0.5952490568161011),\n",
       " (u'as', 0.594176173210144),\n",
       " (u'for', 0.5938476324081421),\n",
       " (u'everybody', 0.5935904383659363),\n",
       " (u'will', 0.592474102973938),\n",
       " (u'chance', 0.591378927230835),\n",
       " (u'someone', 0.5882105827331543),\n",
       " (u'bit', 0.5880380868911743),\n",
       " (u'nobody', 0.5873513221740723),\n",
       " (u'ones', 0.5865121483802795),\n",
       " (u'whether', 0.5863933563232422),\n",
       " (u'both', 0.5846642851829529),\n",
       " (u'other', 0.5843827724456787),\n",
       " (u'needed', 0.5841854810714722),\n",
       " (u'cannot', 0.5832420587539673),\n",
       " (u'however', 0.5830207467079163),\n",
       " (u'made', 0.5828163623809814),\n",
       " (u'pretty', 0.5824579000473022),\n",
       " (u'bad', 0.5821834206581116),\n",
       " (u'unfortunately', 0.580321729183197),\n",
       " (u'are', 0.580115795135498),\n",
       " (u'being', 0.5799237489700317),\n",
       " (u'sometimes', 0.5791312456130981),\n",
       " (u'work', 0.5785105228424072),\n",
       " (u'almost', 0.5782331824302673),\n",
       " (u'already', 0.5776833295822144),\n",
       " (u'next', 0.57685786485672),\n",
       " (u'idea', 0.57671058177948),\n",
       " (u'eat', 0.5766197443008423),\n",
       " (u'each', 0.5762125253677368),\n",
       " (u'putting', 0.5761876702308655),\n",
       " (u'mind', 0.5761056542396545),\n",
       " (u'certain', 0.5758776068687439),\n",
       " (u'him', 0.5753806829452515),\n",
       " (u'result', 0.5747112035751343),\n",
       " (u'people', 0.5737947821617126),\n",
       " (u'remember', 0.5737649202346802),\n",
       " (u'exactly', 0.5735098123550415),\n",
       " (u'to', 0.572627067565918),\n",
       " (u'least', 0.572551965713501),\n",
       " (u'may', 0.5723821520805359),\n",
       " (u'adding', 0.5721998810768127),\n",
       " (u'expect', 0.571562647819519),\n",
       " (u'is', 0.5713456273078918),\n",
       " (u'ready', 0.5711588859558105),\n",
       " (u'day', 0.5711177587509155),\n",
       " (u'far', 0.56936115026474),\n",
       " (u'great', 0.5692828893661499),\n",
       " (u'usually', 0.5691068172454834),\n",
       " (u'taking', 0.5682923197746277),\n",
       " (u'before', 0.5679466724395752),\n",
       " (u'part', 0.5666266083717346),\n",
       " (u'where', 0.5664368867874146),\n",
       " (u'right', 0.5659391283988953),\n",
       " (u'also', 0.563969075679779),\n",
       " (u'often', 0.5639001131057739),\n",
       " (u'seen', 0.562909722328186),\n",
       " (u'came', 0.5622920989990234),\n",
       " (u'today', 0.5618627071380615),\n",
       " (u'guess', 0.561172366142273),\n",
       " (u'hardly', 0.5599864721298218),\n",
       " (u'start', 0.5598281025886536),\n",
       " (u'obviously', 0.5596826076507568),\n",
       " (u'last', 0.559667706489563),\n",
       " (u'giving', 0.5596178770065308),\n",
       " (u'she', 0.55953449010849),\n",
       " (u'been', 0.5594187378883362),\n",
       " (u'about', 0.5590164065361023),\n",
       " (u'guys', 0.5588686466217041),\n",
       " (u'use', 0.5582079291343689),\n",
       " (u'saying', 0.5581327080726624),\n",
       " (u'lose', 0.5572150945663452),\n",
       " (u'somebody', 0.5566449165344238),\n",
       " (u'seem', 0.5566102266311646),\n",
       " (u'particular', 0.5564903616905212),\n",
       " (u'happen', 0.5561763048171997),\n",
       " (u'long', 0.5557185411453247),\n",
       " (u'anymore', 0.5550467371940613),\n",
       " (u'food', 0.5549987554550171),\n",
       " (u'knows', 0.5548480749130249),\n",
       " (u'money', 0.5546512603759766),\n",
       " (u'others', 0.5545952320098877),\n",
       " (u'thinking', 0.5543819069862366),\n",
       " (u'likely', 0.5540729761123657),\n",
       " (u'_', 0.5537916421890259),\n",
       " (u'choice', 0.5536674857139587),\n",
       " (u'change', 0.5530340671539307),\n",
       " (u'half', 0.5521668791770935),\n",
       " (u'ask', 0.5511986017227173),\n",
       " (u'myself', 0.5509278774261475),\n",
       " (u'happy', 0.5505783557891846),\n",
       " (u'while', 0.5494996309280396),\n",
       " (u'matter', 0.549177885055542),\n",
       " (u'year', 0.5486955046653748),\n",
       " (u'different', 0.5483956336975098),\n",
       " (u'cut', 0.547956109046936),\n",
       " (u'true', 0.5478375554084778),\n",
       " (u'supposed', 0.5477963089942932),\n",
       " (u'years', 0.5472488403320312),\n",
       " (u'first', 0.5470144152641296),\n",
       " (u'anybody', 0.5469009876251221),\n",
       " (u'needs', 0.5458979606628418),\n",
       " (u'question', 0.545150637626648),\n",
       " (u'taken', 0.5449953675270081),\n",
       " (u'trying', 0.5449472665786743),\n",
       " (u'except', 0.544729471206665),\n",
       " (u'knew', 0.5444393754005432),\n",
       " (u'away', 0.5441522598266602),\n",
       " (u'goes', 0.5440973043441772),\n",
       " (u'try', 0.5433089733123779),\n",
       " (u'small', 0.5431438684463501),\n",
       " (u'possible', 0.5427133440971375),\n",
       " (u'none', 0.5422141551971436),\n",
       " (u'alone', 0.5421977639198303),\n",
       " (u'hand', 0.5421169400215149),\n",
       " (u\"''\", 0.54119473695755),\n",
       " (u'wait', 0.5406510829925537),\n",
       " (u'their', 0.5406137704849243),\n",
       " (u'wrong', 0.5405606031417847),\n",
       " (u'with', 0.540556788444519),\n",
       " (u'days', 0.5399913191795349),\n",
       " (u'important', 0.5396161675453186),\n",
       " (u'person', 0.5395482778549194),\n",
       " (u'yourself', 0.539508581161499),\n",
       " (u'life', 0.5394741296768188),\n",
       " (u'seeing', 0.5388299226760864),\n",
       " (u'`', 0.5386805534362793),\n",
       " (u'saw', 0.5368305444717407),\n",
       " (u'basically', 0.536190390586853),\n",
       " (u'understand', 0.5360631346702576),\n",
       " (u'taste', 0.5354539155960083),\n",
       " (u'talk', 0.535205602645874),\n",
       " (u'off', 0.5349213480949402),\n",
       " (u'in', 0.5347393751144409),\n",
       " (u'talking', 0.5345646739006042),\n",
       " (u'yes', 0.5345558524131775),\n",
       " (u'kids', 0.532877504825592),\n",
       " (u'end', 0.5328192114830017),\n",
       " (u'imagine', 0.531921923160553),\n",
       " (u'neither', 0.531478226184845),\n",
       " (u'love', 0.5314046144485474),\n",
       " (u'a', 0.5313289165496826),\n",
       " (u'therefore', 0.5312769412994385),\n",
       " (u'forget', 0.5307781100273132),\n",
       " (u'real', 0.5306724309921265),\n",
       " (u'buy', 0.5304124355316162),\n",
       " (u'of', 0.5302045345306396),\n",
       " (u'until', 0.5291664004325867),\n",
       " (u'addition', 0.5288003087043762),\n",
       " (u'add', 0.5287429094314575),\n",
       " (u'difference', 0.5281339883804321),\n",
       " (u'wants', 0.5280155539512634),\n",
       " (u'gets', 0.527896523475647),\n",
       " (u'job', 0.5277199745178223),\n",
       " (u'wish', 0.5277019739151001),\n",
       " (u'help', 0.5272173285484314),\n",
       " (u'simple', 0.5267990231513977),\n",
       " (u'happens', 0.5258426070213318),\n",
       " (u'fun', 0.5251381397247314),\n",
       " (u'clear', 0.5250413417816162),\n",
       " (u'used', 0.5239130258560181),\n",
       " (u'cost', 0.5237805843353271),\n",
       " (u'sense', 0.5235349535942078),\n",
       " (u'looks', 0.5229732990264893),\n",
       " (u'down', 0.5227976441383362),\n",
       " (u'difficult', 0.5226073861122131),\n",
       " (u'necessarily', 0.5221027135848999),\n",
       " (u'asked', 0.5221021771430969),\n",
       " (u'went', 0.5217061042785645),\n",
       " (u'otherwise', 0.5213873982429504),\n",
       " (u'break', 0.5205111503601074),\n",
       " (u'course', 0.519728422164917),\n",
       " (u'has', 0.5195586681365967),\n",
       " (u'10', 0.518587589263916),\n",
       " (u'opportunity', 0.5185794234275818),\n",
       " (u'play', 0.5182497501373291),\n",
       " (u'full', 0.5180661678314209),\n",
       " (u'plenty', 0.5171816349029541),\n",
       " (u'hope', 0.5171154141426086),\n",
       " (u'knowing', 0.5169208645820618),\n",
       " (u'on', 0.5159666538238525),\n",
       " (u'amount', 0.5157225131988525),\n",
       " (u'meat', 0.5156276226043701),\n",
       " (u'had', 0.5155568718910217),\n",
       " (u'week', 0.5155407190322876),\n",
       " (u'problem', 0.515276312828064),\n",
       " (u'ways', 0.5147146582603455),\n",
       " (u'experience', 0.5141106247901917),\n",
       " (u'piece', 0.5140460729598999),\n",
       " (u'beginning', 0.5140169858932495),\n",
       " (u'over', 0.5140119194984436),\n",
       " (u'consider', 0.513551652431488),\n",
       " (u'lots', 0.5134826898574829),\n",
       " (u'doubt', 0.5133650898933411),\n",
       " (u'quality', 0.5130528211593628),\n",
       " (u'working', 0.5125716924667358),\n",
       " (u'extra', 0.5125572085380554),\n",
       " (u'happened', 0.5125178694725037),\n",
       " (u'eating', 0.5122616291046143),\n",
       " (u'two', 0.5121237635612488),\n",
       " (u'worry', 0.5120919346809387),\n",
       " (u'prepared', 0.5119162797927856),\n",
       " (u'stand', 0.511806845664978),\n",
       " (u'become', 0.510656476020813),\n",
       " (u'folks', 0.5100935101509094),\n",
       " (u'large', 0.5100475549697876),\n",
       " (u'ago', 0.5098778605461121),\n",
       " (u'couple', 0.5098717212677002),\n",
       " (u'similar', 0.5095692873001099),\n",
       " (u'country', 0.5088268518447876),\n",
       " (u'stop', 0.5087971687316895),\n",
       " (u'leave', 0.5087783336639404),\n",
       " (u'says', 0.5082763433456421),\n",
       " (u'side', 0.5079245567321777),\n",
       " (u'necessary', 0.5078443288803101),\n",
       " (u'beyond', 0.5073175430297852),\n",
       " (u'seemed', 0.5069050192832947),\n",
       " (u'nice', 0.506519079208374),\n",
       " (u'around', 0.5059584379196167),\n",
       " (u'truly', 0.5058773756027222),\n",
       " (u'easier', 0.5058140158653259),\n",
       " (u'three', 0.5056785941123962),\n",
       " (u'realize', 0.5046013593673706),\n",
       " (u'generally', 0.5041565895080566),\n",
       " (u'sell', 0.5041521787643433),\n",
       " (u'thus', 0.5039514303207397),\n",
       " (u'soon', 0.503185510635376),\n",
       " (u'particularly', 0.5029906034469604),\n",
       " (u'felt', 0.5029256343841553),\n",
       " (u'\"', 0.5022565126419067),\n",
       " (u'ought', 0.501873791217804),\n",
       " (u'fine', 0.5016205310821533),\n",
       " (u'turning', 0.5015351176261902),\n",
       " (u'kinds', 0.5014998316764832),\n",
       " (u'using', 0.5014681220054626),\n",
       " (u'was', 0.5012890696525574),\n",
       " (u'perfect', 0.5011668801307678),\n",
       " (u'bigger', 0.5009503364562988),\n",
       " (u'move', 0.5008904337882996),\n",
       " (u'answer', 0.5008383989334106),\n",
       " (u'continue', 0.5005688667297363),\n",
       " (u'point', 0.5005536675453186),\n",
       " (u'show', 0.5004497766494751),\n",
       " (u'surely', 0.5001441240310669),\n",
       " (u'themselves', 0.5000301003456116),\n",
       " (u'added', 0.4994781017303467),\n",
       " (u'decided', 0.49924662709236145),\n",
       " (u'brought', 0.499037504196167),\n",
       " (u'check', 0.49865594506263733),\n",
       " (u'serve', 0.4972963035106659),\n",
       " (u'home', 0.49704214930534363),\n",
       " (u'available', 0.49679285287857056),\n",
       " (u'man', 0.49631208181381226),\n",
       " (u'allow', 0.4956091642379761),\n",
       " (u'short', 0.4955735504627228),\n",
       " (u'business', 0.49555328488349915),\n",
       " (u'thinks', 0.49510329961776733),\n",
       " (u'moment', 0.49505865573883057),\n",
       " (u'pay', 0.4949232339859009),\n",
       " (u'together', 0.49475693702697754),\n",
       " (u'wonder', 0.4945116639137268),\n",
       " (u'stay', 0.4942045509815216),\n",
       " (u'possibly', 0.49388015270233154),\n",
       " (u'takes', 0.49384063482284546),\n",
       " (u'success', 0.4936860203742981),\n",
       " (u'turned', 0.4922107756137848),\n",
       " (u'besides', 0.4921628534793854),\n",
       " (u'learn', 0.49210596084594727),\n",
       " (u'set', 0.49198994040489197),\n",
       " (u'game', 0.49191761016845703),\n",
       " (u'looked', 0.49164146184921265),\n",
       " (u'worse', 0.4914863109588623),\n",
       " (u'considered', 0.49145668745040894),\n",
       " (u'second', 0.4913482069969177),\n",
       " (u'finally', 0.4907705783843994),\n",
       " (u'starting', 0.4907562732696533),\n",
       " (u'five', 0.49032050371170044),\n",
       " (u'anywhere', 0.4903021454811096),\n",
       " (u'fit', 0.4902040362358093),\n",
       " (u'after', 0.49019715189933777),\n",
       " (u'liked', 0.48949435353279114),\n",
       " (u'into', 0.48876968026161194),\n",
       " (u'pick', 0.4887487292289734),\n",
       " (u'impossible', 0.4877699017524719),\n",
       " (u'feeling', 0.48768311738967896),\n",
       " (u'call', 0.4875624477863312),\n",
       " (u'produce', 0.48738425970077515),\n",
       " (u'months', 0.4871021807193756),\n",
       " (u'clearly', 0.48683518171310425),\n",
       " (u'night', 0.4860110878944397),\n",
       " (u'likes', 0.48545536398887634),\n",
       " (u'whenever', 0.4843546748161316),\n",
       " (u'room', 0.4843014180660248),\n",
       " (u'order', 0.4840542674064636),\n",
       " (u'four', 0.4840141832828522),\n",
       " (u'product', 0.4837251901626587),\n",
       " (u'found', 0.48285937309265137),\n",
       " (u'keeping', 0.48261913657188416),\n",
       " (u'concerned', 0.4824681878089905),\n",
       " (u'offer', 0.48243609070777893),\n",
       " (u'finding', 0.48234987258911133),\n",
       " (u'suggest', 0.48205432295799255),\n",
       " (u'times', 0.481692910194397),\n",
       " (u'gotten', 0.4815521240234375),\n",
       " (u'shows', 0.4815405309200287),\n",
       " (u'willing', 0.4813624918460846),\n",
       " (u'who', 0.4809698164463043),\n",
       " (u'since', 0.48078158497810364),\n",
       " (u'afford', 0.4807435870170593),\n",
       " (u'benefit', 0.4806172251701355),\n",
       " (u'run', 0.4805605709552765),\n",
       " (u'nor', 0.48008185625076294),\n",
       " (u'single', 0.4797332286834717),\n",
       " (u'bread', 0.47970470786094666),\n",
       " (u'its', 0.47853848338127136),\n",
       " (u'return', 0.4784828722476959),\n",
       " (u'tough', 0.47829991579055786),\n",
       " (u'interesting', 0.4777987599372864)]"
      ]
     },
     "execution_count": 38,
     "metadata": {},
     "output_type": "execute_result"
    }
   ],
   "source": [
    "stan_model.similar_by_vector(review_vec[0], topn = 500)"
   ]
  },
  {
   "cell_type": "markdown",
   "metadata": {
    "run_control": {
     "frozen": false,
     "read_only": false
    }
   },
   "source": [
    "Many words not related to food, price, restaurant etc. Try a different strategy."
   ]
  },
  {
   "cell_type": "markdown",
   "metadata": {
    "run_control": {
     "frozen": false,
     "read_only": false
    }
   },
   "source": [
    "Removing the first feature may result in more accuracy."
   ]
  },
  {
   "cell_type": "code",
   "execution_count": 39,
   "metadata": {
    "collapsed": false,
    "run_control": {
     "frozen": false,
     "read_only": false
    }
   },
   "outputs": [],
   "source": [
    "stan_words = stan_model.syn0"
   ]
  },
  {
   "cell_type": "code",
   "execution_count": 40,
   "metadata": {
    "collapsed": false,
    "run_control": {
     "frozen": false,
     "read_only": false
    }
   },
   "outputs": [],
   "source": [
    "stan_words = stan_words[:, 1:]"
   ]
  },
  {
   "cell_type": "code",
   "execution_count": 41,
   "metadata": {
    "collapsed": false,
    "run_control": {
     "frozen": false,
     "read_only": false
    }
   },
   "outputs": [
    {
     "data": {
      "text/plain": [
       "NearestNeighbors(algorithm='brute', leaf_size=30, metric='cosine',\n",
       "         metric_params=None, n_jobs=1, n_neighbors=100, p=2, radius=1.0)"
      ]
     },
     "execution_count": 41,
     "metadata": {},
     "output_type": "execute_result"
    }
   ],
   "source": [
    "from sklearn.neighbors import NearestNeighbors\n",
    "\n",
    "neigh = NearestNeighbors(n_neighbors=100, algorithm='brute', metric='cosine')\n",
    "neigh.fit(stan_words)"
   ]
  },
  {
   "cell_type": "code",
   "execution_count": 42,
   "metadata": {
    "collapsed": false,
    "run_control": {
     "frozen": false,
     "read_only": false
    }
   },
   "outputs": [],
   "source": [
    "review_test = review_vec[0][1:]"
   ]
  },
  {
   "cell_type": "code",
   "execution_count": 43,
   "metadata": {
    "collapsed": false,
    "run_control": {
     "frozen": false,
     "read_only": false
    }
   },
   "outputs": [
    {
     "name": "stderr",
     "output_type": "stream",
     "text": [
      "/Users/Sam/anaconda2/lib/python2.7/site-packages/sklearn/utils/validation.py:395: DeprecationWarning: Passing 1d arrays as data is deprecated in 0.17 and will raise ValueError in 0.19. Reshape your data either using X.reshape(-1, 1) if your data has a single feature or X.reshape(1, -1) if it contains a single sample.\n",
      "  DeprecationWarning)\n"
     ]
    }
   ],
   "source": [
    "distances_stan, indices_stan = neigh.kneighbors(review_test, n_neighbors=100)"
   ]
  },
  {
   "cell_type": "code",
   "execution_count": 44,
   "metadata": {
    "collapsed": false,
    "run_control": {
     "frozen": false,
     "read_only": false
    }
   },
   "outputs": [],
   "source": [
    "indices_stan = indices_stan[0]"
   ]
  },
  {
   "cell_type": "code",
   "execution_count": 45,
   "metadata": {
    "collapsed": false,
    "run_control": {
     "frozen": false,
     "read_only": false
    }
   },
   "outputs": [
    {
     "name": "stdout",
     "output_type": "stream",
     "text": [
      "you\n",
      "n't\n",
      "so\n",
      "even\n",
      "just\n",
      "what\n",
      "?\n",
      "if\n",
      "get\n",
      "but\n",
      "good\n",
      "we\n",
      "i\n",
      "know\n",
      "really\n",
      "because\n",
      "something\n",
      "it\n",
      "going\n",
      "sure\n",
      "think\n",
      "things\n",
      "actually\n",
      "make\n",
      "'ll\n",
      "want\n",
      "well\n",
      "come\n",
      "not\n",
      "they\n",
      "kind\n",
      "nothing\n",
      "anything\n",
      "way\n",
      "thing\n",
      "do\n",
      "always\n",
      "only\n",
      "maybe\n",
      "everything\n",
      "enough\n",
      "like\n",
      "need\n",
      "should\n",
      "go\n",
      "'re\n",
      "'d\n",
      "this\n",
      "much\n",
      "better\n",
      "one\n",
      "can\n",
      "same\n",
      "might\n",
      "all\n",
      "'ve\n",
      "how\n",
      "why\n",
      "that\n",
      "time\n",
      "too\n",
      "probably\n",
      "done\n",
      "though\n",
      ".\n",
      "does\n",
      "could\n",
      "look\n",
      "fact\n",
      "there\n",
      "them\n",
      "did\n",
      "never\n",
      "put\n",
      "else\n",
      "thought\n",
      "simply\n",
      "me\n",
      "lot\n",
      "certainly\n",
      "take\n",
      "those\n",
      "rather\n",
      "would\n",
      "few\n",
      "very\n",
      "whole\n",
      "every\n",
      "say\n",
      "everyone\n",
      "any\n",
      "be\n",
      "more\n",
      "little\n",
      "no\n",
      "let\n",
      "got\n",
      "sort\n",
      "having\n",
      "instead\n"
     ]
    }
   ],
   "source": [
    "for index in indices_stan:\n",
    "    print stan_model.index2word[index]"
   ]
  },
  {
   "cell_type": "markdown",
   "metadata": {
    "collapsed": true,
    "run_control": {
     "frozen": false,
     "read_only": false
    }
   },
   "source": [
    "# TFIDF"
   ]
  },
  {
   "cell_type": "code",
   "execution_count": 5,
   "metadata": {
    "collapsed": false,
    "run_control": {
     "frozen": false,
     "read_only": false
    }
   },
   "outputs": [],
   "source": [
    "reviews = db.reviews"
   ]
  },
  {
   "cell_type": "code",
   "execution_count": 6,
   "metadata": {
    "collapsed": false,
    "run_control": {
     "frozen": false,
     "read_only": false
    }
   },
   "outputs": [],
   "source": [
    "datarev2 = list(reviews.find())"
   ]
  },
  {
   "cell_type": "code",
   "execution_count": 7,
   "metadata": {
    "collapsed": false,
    "run_control": {
     "frozen": false,
     "read_only": false
    }
   },
   "outputs": [],
   "source": [
    "reviewdict = {}\n",
    "for review in datarev2:\n",
    "    bizid = review['business_id']\n",
    "    bizrev = review['text']\n",
    "    try:\n",
    "        reviewdict[bizid] = reviewdict[bizid] + bizrev\n",
    "    except:\n",
    "        reviewdict[bizid] = bizrev"
   ]
  },
  {
   "cell_type": "code",
   "execution_count": 8,
   "metadata": {
    "collapsed": false,
    "run_control": {
     "frozen": false,
     "read_only": false
    }
   },
   "outputs": [],
   "source": [
    "reviewlist_df = pd.DataFrame(reviewdict.items())"
   ]
  },
  {
   "cell_type": "code",
   "execution_count": 9,
   "metadata": {
    "collapsed": true,
    "run_control": {
     "frozen": false,
     "read_only": false
    }
   },
   "outputs": [],
   "source": [
    "import pickle\n",
    "with open('./reviewlist_df.pkl','wb') as f:\n",
    "    pickle.dump(reviewlist_df, f)"
   ]
  },
  {
   "cell_type": "code",
   "execution_count": 10,
   "metadata": {
    "collapsed": false,
    "run_control": {
     "frozen": false,
     "read_only": false
    }
   },
   "outputs": [],
   "source": [
    "tfidf = TfidfVectorizer(stop_words=\"english\", \n",
    "                        token_pattern=\"\\\\b[a-zA-Z][a-zA-Z]+\\\\b\", \n",
    "                        min_df=10)\n",
    "tfidf_vecs = tfidf.fit_transform(reviewlist_df.iloc[:,1])"
   ]
  },
  {
   "cell_type": "code",
   "execution_count": 11,
   "metadata": {
    "collapsed": false,
    "run_control": {
     "frozen": false,
     "read_only": false
    }
   },
   "outputs": [],
   "source": [
    "with open('./tfidf_vecs.pkl','wb') as f:\n",
    "    pickle.dump([tfidf, tfidf_vecs], f)"
   ]
  },
  {
   "cell_type": "code",
   "execution_count": 12,
   "metadata": {
    "collapsed": false,
    "run_control": {
     "frozen": false,
     "read_only": false
    }
   },
   "outputs": [],
   "source": [
    "id2words = dict((v, k) for k,v in tfidf.vocabulary_.iteritems())\n",
    "vocabulary = tfidf.vocabulary_"
   ]
  },
  {
   "cell_type": "code",
   "execution_count": 13,
   "metadata": {
    "collapsed": true,
    "run_control": {
     "frozen": false,
     "read_only": false
    }
   },
   "outputs": [],
   "source": [
    "with open('./words.pkl','wb') as f:\n",
    "    pickle.dump([vocabulary, id2words], f) "
   ]
  },
  {
   "cell_type": "markdown",
   "metadata": {
    "run_control": {
     "frozen": false,
     "read_only": false
    }
   },
   "source": [
    "# Load Pickles here:"
   ]
  },
  {
   "cell_type": "code",
   "execution_count": 3,
   "metadata": {
    "collapsed": true,
    "run_control": {
     "frozen": false,
     "read_only": false
    }
   },
   "outputs": [],
   "source": [
    "biz_id = '_qvxFHGbnbrAPeWBVifJEQ'"
   ]
  },
  {
   "cell_type": "code",
   "execution_count": 4,
   "metadata": {
    "collapsed": true,
    "run_control": {
     "frozen": false,
     "read_only": false
    }
   },
   "outputs": [],
   "source": [
    "import pickle\n",
    "with open('./reviewlist_df.pkl','rb') as f:\n",
    "    reviewlist_df = pickle.load(f)"
   ]
  },
  {
   "cell_type": "code",
   "execution_count": 5,
   "metadata": {
    "collapsed": true,
    "run_control": {
     "frozen": false,
     "read_only": false
    }
   },
   "outputs": [],
   "source": [
    "with open('./tfidf_vecs.pkl','rb') as f:\n",
    "    tfidf, tfidf_vecs = pickle.load(f)"
   ]
  },
  {
   "cell_type": "code",
   "execution_count": 6,
   "metadata": {
    "collapsed": true,
    "run_control": {
     "frozen": false,
     "read_only": false
    }
   },
   "outputs": [],
   "source": [
    "with open('./words.pkl', 'rb') as f:\n",
    "    vocabulary, id2words = pickle.load(f)"
   ]
  },
  {
   "cell_type": "code",
   "execution_count": 7,
   "metadata": {
    "collapsed": false,
    "run_control": {
     "frozen": false,
     "read_only": false
    }
   },
   "outputs": [],
   "source": [
    "biz_index = reviewlist_df[reviewlist_df[0] == biz_id].index[0]"
   ]
  },
  {
   "cell_type": "code",
   "execution_count": 8,
   "metadata": {
    "collapsed": false,
    "run_control": {
     "frozen": false,
     "read_only": false
    }
   },
   "outputs": [],
   "source": [
    "tfidf_df = pd.DataFrame(tfidf_vecs.todense())"
   ]
  },
  {
   "cell_type": "code",
   "execution_count": 9,
   "metadata": {
    "collapsed": false,
    "run_control": {
     "frozen": false,
     "read_only": false
    }
   },
   "outputs": [],
   "source": [
    "top_10 = tfidf_df.iloc[biz_index,:].argsort()[-10:]"
   ]
  },
  {
   "cell_type": "code",
   "execution_count": 10,
   "metadata": {
    "collapsed": false,
    "run_control": {
     "frozen": false,
     "read_only": false
    }
   },
   "outputs": [
    {
     "name": "stdout",
     "output_type": "stream",
     "text": [
      "lenny\n",
      "sub\n",
      "philly\n",
      "subs\n",
      "toxic\n",
      "sandwich\n",
      "meat\n",
      "subway\n",
      "good\n",
      "bread\n"
     ]
    }
   ],
   "source": [
    "for i in top_10[::-1]:\n",
    "    print id2words[i] "
   ]
  },
  {
   "cell_type": "code",
   "execution_count": 22,
   "metadata": {
    "collapsed": false,
    "run_control": {
     "frozen": false,
     "read_only": false
    }
   },
   "outputs": [],
   "source": [
    "review_summ = {}\n",
    "for res in range(len(reviewlist_df[0])):\n",
    "    top_10 = tfidf_df.iloc[res,:].argsort()[-10:]\n",
    "    top_10_list = []\n",
    "    for i in top_10[::-1]:\n",
    "        top_10_list.append(id2words[i])\n",
    "    review_summ[reviewlist_df[0][res]] = top_10_list"
   ]
  },
  {
   "cell_type": "code",
   "execution_count": 23,
   "metadata": {
    "collapsed": true,
    "run_control": {
     "frozen": false,
     "read_only": false
    }
   },
   "outputs": [],
   "source": [
    "with open('./review_summ.pkl','wb') as f:\n",
    "    pickle.dump(review_summ, f) "
   ]
  }
 ],
 "metadata": {
  "anaconda-cloud": {},
  "kernelspec": {
   "display_name": "Python [Root]",
   "language": "python",
   "name": "Python [Root]"
  },
  "language_info": {
   "codemirror_mode": {
    "name": "ipython",
    "version": 2
   },
   "file_extension": ".py",
   "mimetype": "text/x-python",
   "name": "python",
   "nbconvert_exporter": "python",
   "pygments_lexer": "ipython2",
   "version": "2.7.12"
  }
 },
 "nbformat": 4,
 "nbformat_minor": 0
}
